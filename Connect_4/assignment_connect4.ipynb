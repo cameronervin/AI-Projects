{
  "cells": [
    {
      "cell_type": "markdown",
      "metadata": {
        "id": "onWS9VdPTahX"
      },
      "source": [
        "# Adversarial Search: Playing Connect 4\n",
        "\n",
        "Student Name: Cameron Ervin\n",
        "\n",
        "I have used the following AI tools: [list tools]\n",
        "\n",
        "I understand that my submission needs to be my own work: CE\n",
        "\n",
        "## Instructions\n",
        "\n",
        "Total Points: Undegraduates 100, graduate students 110\n",
        "\n",
        "Complete this notebook and submit it. The notebook needs to be a complete project report with your implementation, documentation including a short discussion of how your implementation works and your design choices, and experimental results (e.g., tables and charts with simulation results) with a short discussion of what they mean. Use the provided notebook cells and insert additional code and markdown cells as needed.\n",
        "\n",
        "## Introduction\n",
        "\n",
        "You will implement different versions of agents that play Connect 4:\n",
        "\n",
        "> \"Connect 4 is a two-player connection board game, in which the players choose a color and then take turns dropping colored discs into a seven-column, six-row vertically suspended grid. The pieces fall straight down, occupying the lowest available space within the column. The objective of the game is to be the first to form a horizontal, vertical, or diagonal line of four of one's own discs.\" (see [Connect Four on Wikipedia](https://en.wikipedia.org/wiki/Connect_Four))\n",
        "\n",
        "Note that [Connect-4 has been solved](https://en.wikipedia.org/wiki/Connect_Four#Mathematical_solution)\n",
        "in 1988. A connect-4 solver with a discussion of how to solve different parts of the problem can be found here: https://connect4.gamesolver.org/en/"
      ]
    },
    {
      "cell_type": "markdown",
      "metadata": {
        "id": "0ajx6sHnTaha"
      },
      "source": [
        "## Task 1: Defining the Search Problem [10 point]\n",
        "\n",
        "Define the components of the search problem:\n",
        "\n",
        "* Initial state\n",
        "* Actions\n",
        "* Transition model (result function)\n",
        "* Goal state (terminal state and utility)"
      ]
    },
    {
      "cell_type": "markdown",
      "metadata": {},
      "source": [
        "Inital state - The initial state for a game of Connect4 is an empty 6x7 game grid\n",
        "\n",
        "Actions - Each player can only drop their own pieces in columns 0-7. Each game piece falls to the bottom-most available slot in the board. Players cannot remove game pieces from the board.\n",
        "\n",
        "Transition model - \n",
        "\n",
        "    Result(current current board, drop game piece into board) = Current board + new game piece\n",
        "    \n",
        "    Result(board where opponent has 3 in a row, opponent drops winning piece in) = lose game\n",
        "    \n",
        "    Result(board where player has 3 in a row, player drops winning piece in) = win game\n",
        "\n",
        "Goal state - \n",
        "\n",
        "    Terminal(no more playable slots) = game over\n",
        "\n",
        "    Terminal(opponent has 4 in a row) = game over\n",
        "\n",
        "    Terminal(player has 4 in a row) = game over\n",
        "\n",
        "    Utility(terminal state) = Utility for a terminal state. Between [-1,1]. -1 if our player loses, 0 if there is a tie, and 1 if our player wins."
      ]
    },
    {
      "cell_type": "markdown",
      "metadata": {
        "id": "l_1apmbgTahb"
      },
      "source": [
        "How big is the state space? Give an estimate and explain it."
      ]
    },
    {
      "cell_type": "markdown",
      "metadata": {},
      "source": [
        "The state space is 6x7 + (6x7)^3 = 74130. This is my estimation for the state space since the size of the board is 6x7 and then each slot can only have a red piece, a yellow piece, or it can be empty. Therefore, we need to add the size of the board and the potential moves."
      ]
    },
    {
      "cell_type": "markdown",
      "metadata": {
        "id": "_ZyZQU73Tahc"
      },
      "source": [
        "How big is the game tree that minimax search will go through? Give an estimate and explain it."
      ]
    },
    {
      "cell_type": "markdown",
      "metadata": {},
      "source": [
        "Space complexity for a minimax search tree is O(bm). b = max branching factor = 7 since there are only 7 possible moves at a given time. m = max depth of tree = 42 since there are 49 slots in the board. O(7*42) = 294."
      ]
    },
    {
      "cell_type": "markdown",
      "metadata": {
        "id": "Kq7FbU5cTahc"
      },
      "source": [
        "## Task 2: Game Environment and Random Agent [25 point]\n",
        "\n",
        "Use a numpy character array as the board."
      ]
    },
    {
      "cell_type": "code",
      "execution_count": 1,
      "metadata": {
        "id": "vTK1u768Tahc",
        "outputId": "c576c4e6-2fdf-447b-bba0-284b7cf860c1"
      },
      "outputs": [
        {
          "name": "stdout",
          "output_type": "stream",
          "text": [
            "[[0 0 0 0 0 0 0]\n",
            " [0 0 0 0 0 0 0]\n",
            " [0 0 0 0 0 0 0]\n",
            " [0 0 0 0 0 0 0]\n",
            " [0 0 0 0 0 0 0]\n",
            " [0 0 0 0 0 0 0]]\n"
          ]
        }
      ],
      "source": [
        "import numpy as np\n",
        "\n",
        "def empty_board(shape=(6, 7)):\n",
        "    return np.full(shape=shape, fill_value=0)\n",
        "\n",
        "print(empty_board())"
      ]
    },
    {
      "cell_type": "markdown",
      "metadata": {
        "id": "AH61wzkkTahc"
      },
      "source": [
        "The standard board is $6 \\times 7$ but you can use smaller boards to test your code. Instead of colors (red and yellow), I use 1 and -1 to represent the players. Make sure that your agent functions all have the from: `agent_type(board, player = 1)`, where board is the current board position (in the format above) and player is the player whose next move it is and who the agent should play (as 1 and -1)."
      ]
    },
    {
      "cell_type": "code",
      "execution_count": 2,
      "metadata": {
        "id": "k26bCVvaTahd",
        "outputId": "5abf623e-f594-45c6-aa7b-f16ed64cc10f",
        "tags": []
      },
      "outputs": [
        {
          "data": {
            "image/png": "[encoded data removed]",
            "text/plain": [
              "<Figure size 640x480 with 1 Axes>"
            ]
          },
          "metadata": {},
          "output_type": "display_data"
        }
      ],
      "source": [
        "# Visualization code by Randolph Rankin\n",
        "\n",
        "import matplotlib.pyplot as plt\n",
        "\n",
        "def visualize(board):\n",
        "    plt.axes()\n",
        "    rectangle=plt.Rectangle((-0.5,len(board)*-1+0.5),len(board[0]),len(board),fc='blue')\n",
        "    circles=[]\n",
        "    for i,row in enumerate(board):\n",
        "        for j,val in enumerate(row):\n",
        "            color='white' if val==0 else 'red' if val==1 else 'yellow'\n",
        "            circles.append(plt.Circle((j,i*-1),0.4,fc=color))\n",
        "\n",
        "    plt.gca().add_patch(rectangle)\n",
        "    for circle in circles:\n",
        "        plt.gca().add_patch(circle)\n",
        "\n",
        "    plt.axis('scaled')\n",
        "    plt.show()\n",
        "\n",
        "board = [[0, 0, 0, 0, 0, 0, 0],\n",
        "         [0, 0, 0, 0, 0, 0, 0],\n",
        "         [0, 0, 0, 0, 0, 0, 0],\n",
        "         [0, 0, 0, 1, 0, 0, 0],\n",
        "         [0, 0, 0, 1, 0, 0, 0],\n",
        "         [0,-1,-1, 1,-1, 0, 0]]\n",
        "visualize(board)"
      ]
    },
    {
      "cell_type": "markdown",
      "metadata": {
        "id": "7VTPrXh1Tahd",
        "tags": []
      },
      "source": [
        "Implement helper functions for:\n",
        "\n",
        "* A check for available actions in each state `actions(s)`.\n",
        "* The transition model `result(s, a)`.\n",
        "* Check for terminal states `terminal(s)`.\n",
        "* The utility function `utility(s)`.\n",
        "\n",
        "Make sure that all these functions work with boards of different sizes (number of columns and rows)."
      ]
    },
    {
      "cell_type": "code",
      "execution_count": 3,
      "metadata": {
        "id": "xtoO6V_XTahd"
      },
      "outputs": [],
      "source": [
        "def actions(s):\n",
        "    action = []\n",
        "    col_actions = []\n",
        "\n",
        "    for i in range(len(s[0])):\n",
        "            if s[0][i] == 0:\n",
        "                for j in range(len(s)):\n",
        "                        if s[j][i] == 0:\n",
        "                                col_actions.append(j)\n",
        "                action.append((np.max(col_actions),i))\n",
        "                col_actions = []\n",
        "    return action"
      ]
    },
    {
      "cell_type": "code",
      "execution_count": 4,
      "metadata": {},
      "outputs": [],
      "source": [
        "def result(s,player,a):\n",
        "    r = np.copy(s)\n",
        "    i,j = a\n",
        "    r[i][j] = player\n",
        "    return r"
      ]
    },
    {
      "cell_type": "code",
      "execution_count": 5,
      "metadata": {},
      "outputs": [],
      "source": [
        "def check_outcome(state, debug = False):\n",
        "\n",
        "    s = np.copy(state)\n",
        "    \n",
        "    # check for winner\n",
        "    # first check to the right\n",
        "    for j in range(len(s[0])-3):\n",
        "        for i in range(len(s)):\n",
        "            right = s[i][j] + s[i][j+1] + s[i][j+2] + s[i][j+3]\n",
        "            if debug: print(\"right = \", right, \"for \", (i,j))\n",
        "            if right == 4 or right == -4:\n",
        "                return s[i][j]\n",
        "\n",
        "    # check down\n",
        "    for j in range(len(s[0])):\n",
        "            for i in range(len(s)-3):\n",
        "                down = s[i][j] + s[i+1][j] + s[i+2][j] + s[i+3][j]\n",
        "                if debug: print(\"down = \", down, \"for \", (i,j))\n",
        "                if down == 4 or down == -4:\n",
        "                    return s[i][j]\n",
        "\n",
        "    # check right diagonal\n",
        "    for j in range(len(s[0])-3):\n",
        "            for i in range(len(s)-3):\n",
        "                right_diag = s[i][j] + s[i+1][j+1] + s[i+2][j+2] + s[i+3][j+3]\n",
        "                if debug: print(\"right_diag = \", right_diag, \"for \", (i,j))\n",
        "                if right_diag == 4 or right_diag == -4:\n",
        "                    return s[i][j]\n",
        "\n",
        "    # check left diagonal\n",
        "    for j in range(3,len(s[0])):\n",
        "            for i in range(len(s)-3):\n",
        "                left_diag = s[i][j] + s[i+1][j-1] + s[i+2][j-2] + s[i+3][j-3]\n",
        "                if debug: print(\"left diag = \", left_diag, \"for \", (i,j))\n",
        "                if left_diag == 4 or left_diag == -4:\n",
        "                    return s[i][j]\n",
        "\n",
        "    # check for full board\n",
        "    top_row = 0\n",
        "    for i in range(len(s[0])):\n",
        "        if s[0][i] != 0:\n",
        "            top_row +=1\n",
        "    if top_row >= len(s[0]):\n",
        "        if debug: print('board full')\n",
        "        return 0\n",
        "    \n",
        "    return None"
      ]
    },
    {
      "cell_type": "code",
      "execution_count": 6,
      "metadata": {},
      "outputs": [
        {
          "name": "stdout",
          "output_type": "stream",
          "text": [
            "right =  0 for  (0, 0)\n",
            "right =  0 for  (1, 0)\n",
            "right =  0 for  (2, 0)\n",
            "right =  -1 for  (3, 0)\n",
            "right =  0 for  (4, 0)\n",
            "right =  0 for  (5, 0)\n",
            "right =  0 for  (0, 1)\n",
            "right =  0 for  (1, 1)\n",
            "right =  0 for  (2, 1)\n",
            "right =  -1 for  (3, 1)\n",
            "right =  0 for  (4, 1)\n",
            "right =  -2 for  (5, 1)\n",
            "right =  0 for  (0, 2)\n",
            "right =  0 for  (1, 2)\n",
            "right =  1 for  (2, 2)\n",
            "right =  -1 for  (3, 2)\n",
            "right =  -1 for  (4, 2)\n",
            "right =  -3 for  (5, 2)\n",
            "right =  1 for  (0, 3)\n",
            "right =  1 for  (1, 3)\n",
            "right =  2 for  (2, 3)\n",
            "right =  0 for  (3, 3)\n",
            "right =  -1 for  (4, 3)\n",
            "right =  -4 for  (5, 3)\n",
            "-1\n"
          ]
        }
      ],
      "source": [
        "board = [[0, 0, 0, 0, 0, 0, 1],\n",
        "        [0, 0, 0, 0, 0, 0, 1],\n",
        "        [0, -1, 0, 1, 0, 0, 1],\n",
        "        [0, 0, -1, 0, 0, 0, 0],\n",
        "        [0, 1, 0, -1, 0, 0, 0],\n",
        "        [1, 0, 0, -1, -1, -1, -1]]\n",
        "print(check_outcome(board, debug = True))"
      ]
    },
    {
      "cell_type": "code",
      "execution_count": 7,
      "metadata": {},
      "outputs": [
        {
          "name": "stdout",
          "output_type": "stream",
          "text": [
            "right =  0 for  (0, 0)\n",
            "right =  0 for  (1, 0)\n",
            "right =  0 for  (2, 0)\n",
            "right =  0 for  (3, 0)\n",
            "right =  0 for  (4, 0)\n",
            "right =  0 for  (5, 0)\n",
            "right =  0 for  (0, 1)\n",
            "right =  0 for  (1, 1)\n",
            "right =  0 for  (2, 1)\n",
            "right =  0 for  (3, 1)\n",
            "right =  0 for  (4, 1)\n",
            "right =  0 for  (5, 1)\n",
            "right =  2 for  (0, 2)\n",
            "right =  0 for  (1, 2)\n",
            "right =  0 for  (2, 2)\n",
            "right =  0 for  (3, 2)\n",
            "right =  0 for  (4, 2)\n",
            "right =  0 for  (5, 2)\n",
            "right =  2 for  (0, 3)\n",
            "right =  0 for  (1, 3)\n",
            "right =  0 for  (2, 3)\n",
            "right =  0 for  (3, 3)\n",
            "right =  0 for  (4, 3)\n",
            "right =  0 for  (5, 3)\n",
            "down =  1 for  (0, 0)\n",
            "down =  0 for  (1, 0)\n",
            "down =  0 for  (2, 0)\n",
            "down =  -1 for  (0, 1)\n",
            "down =  0 for  (1, 1)\n",
            "down =  0 for  (2, 1)\n",
            "down =  1 for  (0, 2)\n",
            "down =  0 for  (1, 2)\n",
            "down =  0 for  (2, 2)\n",
            "down =  -1 for  (0, 3)\n",
            "down =  0 for  (1, 3)\n",
            "down =  0 for  (2, 3)\n",
            "down =  1 for  (0, 4)\n",
            "down =  0 for  (1, 4)\n",
            "down =  0 for  (2, 4)\n",
            "down =  1 for  (0, 5)\n",
            "down =  0 for  (1, 5)\n",
            "down =  0 for  (2, 5)\n",
            "down =  1 for  (0, 6)\n",
            "down =  0 for  (1, 6)\n",
            "down =  0 for  (2, 6)\n",
            "right_diag =  1 for  (0, 0)\n",
            "right_diag =  0 for  (1, 0)\n",
            "right_diag =  0 for  (2, 0)\n",
            "right_diag =  -1 for  (0, 1)\n",
            "right_diag =  0 for  (1, 1)\n",
            "right_diag =  0 for  (2, 1)\n",
            "right_diag =  1 for  (0, 2)\n",
            "right_diag =  0 for  (1, 2)\n",
            "right_diag =  0 for  (2, 2)\n",
            "right_diag =  -1 for  (0, 3)\n",
            "right_diag =  0 for  (1, 3)\n",
            "right_diag =  0 for  (2, 3)\n",
            "left diag =  -1 for  (0, 3)\n",
            "left diag =  0 for  (1, 3)\n",
            "left diag =  0 for  (2, 3)\n",
            "left diag =  1 for  (0, 4)\n",
            "left diag =  0 for  (1, 4)\n",
            "left diag =  0 for  (2, 4)\n",
            "left diag =  1 for  (0, 5)\n",
            "left diag =  0 for  (1, 5)\n",
            "left diag =  0 for  (2, 5)\n",
            "left diag =  1 for  (0, 6)\n",
            "left diag =  0 for  (1, 6)\n",
            "left diag =  0 for  (2, 6)\n",
            "board full\n",
            "0\n"
          ]
        }
      ],
      "source": [
        "board = [[1, -1, 1, -1, 1, 1, 1],\n",
        "        [0, 0, 0, 0, 0, 0, 0],\n",
        "        [0, 0, 0, 0, 0, 0, 0],\n",
        "        [0, 0, 0, 0, 0, 0, 0],\n",
        "        [0, 0, 0, 0, 0, 0, 0],\n",
        "        [0, 0, 0, 0, 0, 0, 0]]\n",
        "print(check_outcome(board, debug = True))"
      ]
    },
    {
      "cell_type": "code",
      "execution_count": 8,
      "metadata": {},
      "outputs": [],
      "source": [
        "def terminal(s):\n",
        "    return check_outcome(s) != None"
      ]
    },
    {
      "cell_type": "code",
      "execution_count": 9,
      "metadata": {},
      "outputs": [],
      "source": [
        "def other(player):\n",
        "    if player == 1: return -1\n",
        "    else: return 1"
      ]
    },
    {
      "cell_type": "code",
      "execution_count": 10,
      "metadata": {},
      "outputs": [],
      "source": [
        "def utility(s,player=1):\n",
        "    outcome = check_outcome(s)\n",
        "    if outcome == player:\n",
        "        return 1\n",
        "    elif outcome == 0:\n",
        "        return 0\n",
        "    elif outcome == other(player):\n",
        "        return -1\n",
        "    return None"
      ]
    },
    {
      "cell_type": "markdown",
      "metadata": {
        "id": "YIq8dorhTahd"
      },
      "source": [
        "Implement an agent that plays randomly. Make sure the agent function receives as the percept the board and returns a valid action. Use an agent function definition with the following signature (arguments):\n",
        "\n",
        "`def random_player(board, player = 1): ...`\n",
        "\n",
        "The argument `player` is used for agents that do not store what color they are playing. The value passed on by the environment should be 1 ot -1 for player red and yellow, respectively.  See [Experiments section for tic-tac-toe](https://nbviewer.org/github/mhahsler/CS7320-AI/blob/master/Games/tictactoe_and_or_tree_search.ipynb#Experiments) for an example."
      ]
    },
    {
      "cell_type": "code",
      "execution_count": 11,
      "metadata": {
        "id": "fzAzyvrJTahd"
      },
      "outputs": [],
      "source": [
        "def random_player(board,player=1):\n",
        "    idx = np.random.randint(len(actions(board)))\n",
        "    return actions(board)[idx]"
      ]
    },
    {
      "cell_type": "code",
      "execution_count": 12,
      "metadata": {},
      "outputs": [],
      "source": [
        "def switch_player(player, r, y):\n",
        "    # red = 1, yellow = -1\n",
        "    if player == 1:\n",
        "        return -1, y\n",
        "    else:\n",
        "        return 1, r\n",
        "\n",
        "def play(r, y, N = 100, vis = False):\n",
        "    \"\"\"Let two agents play each other N times. x starts. x and y are agent functions that \n",
        "    get the board as the percept and return their next action.\"\"\"\n",
        "    results = {'red': 0, 'yellow': 0, 'draw': 0}\n",
        "    \n",
        "    for i in range(N):\n",
        "        board = empty_board()\n",
        "        player, fun = 1, r\n",
        "        \n",
        "        while True:\n",
        "            a = fun(board, player)\n",
        "            board = result(board, player, a)\n",
        "            \n",
        "            game_end = terminal(board)   # returns false if the game is not done.\n",
        "            if game_end:\n",
        "                outcome = check_outcome(board)\n",
        "                if outcome == 1:\n",
        "                    results['red'] += 1\n",
        "                elif outcome == -1:\n",
        "                    results['yellow'] += 1\n",
        "                elif outcome == 0:\n",
        "                    results['draw'] += 1\n",
        "                if vis:\n",
        "                    visualize(board)\n",
        "                break\n",
        "            \n",
        "            player, fun = switch_player(player, r, y)   \n",
        "    \n",
        "    return results"
      ]
    },
    {
      "cell_type": "markdown",
      "metadata": {
        "id": "VZkpUOXETahd"
      },
      "source": [
        "Let two random agents play against each other 1000 times. Look at the [Experiments section for tic-tac-toe](https://nbviewer.org/github/mhahsler/CS7320-AI/blob/master/Games/tictactoe_and_or_tree_search.ipynb#Experiments) to see how the environment uses the agent functions to play against each other.\n",
        "\n",
        "How often does each player win? Is the result expected?"
      ]
    },
    {
      "cell_type": "code",
      "execution_count": 13,
      "metadata": {
        "id": "OgkAJxQYTahe",
        "tags": []
      },
      "outputs": [
        {
          "data": {
            "text/plain": [
              "{'red': 68, 'yellow': 32, 'draw': 0}"
            ]
          },
          "metadata": {},
          "output_type": "display_data"
        },
        {
          "name": "stdout",
          "output_type": "stream",
          "text": [
            "CPU times: user 461 ms, sys: 26.4 ms, total: 488 ms\n",
            "Wall time: 211 ms\n"
          ]
        }
      ],
      "source": [
        "# timeit: n ... how many times to execute the statement, \n",
        "#         r ... how many times to repeat the timer (default 5)\n",
        "\n",
        "%time display(play(random_player, random_player, N = 100))"
      ]
    },
    {
      "cell_type": "markdown",
      "metadata": {
        "id": "OsTBuye2Tahe"
      },
      "source": [
        "## Task 3: Minimax Search with Alpha-Beta Pruning\n",
        "\n",
        "### Implement the Search [20 points]\n",
        "\n",
        "Implement minimax search starting from a given board for specifying the player.\n",
        "You can use code from the [tic-tac-toe example](https://nbviewer.org/github/mhahsler/CS7320-AI/blob/master/Games/tictactoe_alpha_beta_tree_search.ipynb).\n",
        "\n",
        "__Important Notes:__\n",
        "* Make sure that all your agent functions have a signature consistent with the random agent above and that it [uses a class to store state information.](https://nbviewer.org/github/mhahsler/CS7320-AI/blob/master/HOWTOs/store_agent_state_information.ipynb)\n",
        "This is essential to be able play against agents from other students later.\n",
        "* The search space for a $6 \\times 7$ board is large. You can experiment with smaller boards (the smallest is $4 \\times 4$) and/or changing the winning rule to connect 3 instead of 4."
      ]
    },
    {
      "cell_type": "code",
      "execution_count": 14,
      "metadata": {},
      "outputs": [],
      "source": [
        "import math"
      ]
    },
    {
      "cell_type": "code",
      "execution_count": 15,
      "metadata": {},
      "outputs": [],
      "source": [
        "def alpha_beta_search(board, player = 1):\n",
        "    value, move = max_value_ab(board, player, -math.inf, +math.inf)\n",
        "    \n",
        "    return { \"move\": move, \"value\": value }\n",
        "\n",
        "def max_value_ab(state, player, alpha, beta):  \n",
        "    v = utility(state, player)\n",
        "    if v is not None: return v, None\n",
        "        \n",
        "    v, move = -math.inf, None\n",
        "\n",
        "    for a in actions(state):\n",
        "        v2, a2 = min_value_ab(result(state, player, a), player, alpha, beta)\n",
        "        \n",
        "        if v2 > v:\n",
        "            v, move = v2, a\n",
        "            alpha = max(alpha, v)\n",
        "        if v >= beta:\n",
        "            return v, move\n",
        "    \n",
        "    return v, move\n",
        "\n",
        "def min_value_ab(state, player, alpha, beta):\n",
        "    v = utility(state, player)\n",
        "    if v is not None: return v, None\n",
        "    \n",
        "    v, move = +math.inf, None\n",
        "\n",
        "    # check all possible actions in the state, update beta and return move with the smallest value\n",
        "    for a in actions(state):\n",
        "        v2, a2 = max_value_ab(result(state, other(player), a), player, alpha, beta)\n",
        "        \n",
        "        if v2 < v:\n",
        "            v, move = v2, a\n",
        "            beta = min(beta, v)\n",
        "        if v <= alpha: \n",
        "            return v, move\n",
        "    \n",
        "    return v, move"
      ]
    },
    {
      "cell_type": "markdown",
      "metadata": {
        "id": "zK5v7ds5Tahe"
      },
      "source": [
        "Experiment with some manually created boards (at least 5) to check if the agent spots winning opportunities."
      ]
    },
    {
      "cell_type": "code",
      "execution_count": 16,
      "metadata": {
        "id": "DRM_Nu8_Tahe"
      },
      "outputs": [
        {
          "data": {
            "image/png": "[encoded data removed]",
            "text/plain": [
              "<Figure size 640x480 with 1 Axes>"
            ]
          },
          "metadata": {},
          "output_type": "display_data"
        },
        {
          "data": {
            "text/plain": [
              "{'move': (0, 3), 'value': 1}"
            ]
          },
          "metadata": {},
          "output_type": "display_data"
        },
        {
          "name": "stdout",
          "output_type": "stream",
          "text": [
            "CPU times: user 5.05 ms, sys: 610 µs, total: 5.66 ms\n",
            "Wall time: 1.79 ms\n"
          ]
        }
      ],
      "source": [
        "# board 1\n",
        "board = [[0, 0, 0, 0],\n",
        "         [0,-1, 1, 1],\n",
        "         [-1,1,-1,-1],\n",
        "         [1,-1, 1,-1]]\n",
        "visualize(board)\n",
        "%time display(alpha_beta_search(board))"
      ]
    },
    {
      "cell_type": "code",
      "execution_count": 17,
      "metadata": {},
      "outputs": [
        {
          "data": {
            "image/png": "[encoded data removed]",
            "text/plain": [
              "<Figure size 640x480 with 1 Axes>"
            ]
          },
          "metadata": {},
          "output_type": "display_data"
        },
        {
          "data": {
            "text/plain": [
              "{'move': (1, 0), 'value': 1}"
            ]
          },
          "metadata": {},
          "output_type": "display_data"
        },
        {
          "name": "stdout",
          "output_type": "stream",
          "text": [
            "CPU times: user 2.82 ms, sys: 153 µs, total: 2.97 ms\n",
            "Wall time: 630 µs\n"
          ]
        }
      ],
      "source": [
        "# board 2\n",
        "board = [[0, 0, 0, 0],\n",
        "         [0, 1, 1, 1],\n",
        "         [-1,1, 1,-1],\n",
        "         [1,-1, 1, 1]]\n",
        "visualize(board)\n",
        "%time display(alpha_beta_search(board))"
      ]
    },
    {
      "cell_type": "code",
      "execution_count": 18,
      "metadata": {},
      "outputs": [
        {
          "data": {
            "image/png": "[encoded data removed]",
            "text/plain": [
              "<Figure size 640x480 with 1 Axes>"
            ]
          },
          "metadata": {},
          "output_type": "display_data"
        },
        {
          "data": {
            "text/plain": [
              "{'move': (0, 3), 'value': 1}"
            ]
          },
          "metadata": {},
          "output_type": "display_data"
        },
        {
          "name": "stdout",
          "output_type": "stream",
          "text": [
            "CPU times: user 91.3 ms, sys: 7.68 ms, total: 99 ms\n",
            "Wall time: 32.1 ms\n"
          ]
        }
      ],
      "source": [
        "# board 3\n",
        "board = [[0, 0, 0, 0],\n",
        "         [0,-1, 0, 1],\n",
        "         [0,-1, 0, 1],\n",
        "         [0,-1, 0, 1]]\n",
        "visualize(board)\n",
        "%time display(alpha_beta_search(board))"
      ]
    },
    {
      "cell_type": "code",
      "execution_count": 19,
      "metadata": {},
      "outputs": [
        {
          "data": {
            "image/png": "[encoded data removed]",
            "text/plain": [
              "<Figure size 640x480 with 1 Axes>"
            ]
          },
          "metadata": {},
          "output_type": "display_data"
        },
        {
          "data": {
            "text/plain": [
              "{'move': (3, 2), 'value': 1}"
            ]
          },
          "metadata": {},
          "output_type": "display_data"
        },
        {
          "name": "stdout",
          "output_type": "stream",
          "text": [
            "CPU times: user 43.2 ms, sys: 4.68 ms, total: 47.9 ms\n",
            "Wall time: 14.9 ms\n"
          ]
        }
      ],
      "source": [
        "# board 4\n",
        "board = [[0, 0, 0, 0],\n",
        "         [0, 0, 0, 0],\n",
        "         [-1,-1,0,-1],\n",
        "         [1, 1, 0, 1]]\n",
        "visualize(board)\n",
        "%time display(alpha_beta_search(board))"
      ]
    },
    {
      "cell_type": "code",
      "execution_count": 20,
      "metadata": {},
      "outputs": [
        {
          "data": {
            "image/png": "[encoded data removed]",
            "text/plain": [
              "<Figure size 640x480 with 1 Axes>"
            ]
          },
          "metadata": {},
          "output_type": "display_data"
        },
        {
          "data": {
            "text/plain": [
              "{'move': (0, 0), 'value': -1}"
            ]
          },
          "metadata": {},
          "output_type": "display_data"
        },
        {
          "name": "stdout",
          "output_type": "stream",
          "text": [
            "CPU times: user 54 ms, sys: 528 µs, total: 54.5 ms\n",
            "Wall time: 27.1 ms\n"
          ]
        }
      ],
      "source": [
        "# board 5\n",
        "board = [[0, 0, 0, 0],\n",
        "         [-1,0,-1, 1],\n",
        "         [-1,-1,1,-1],\n",
        "         [-1, 1,-1,1]]\n",
        "visualize(board)\n",
        "%time display(alpha_beta_search(board))"
      ]
    },
    {
      "cell_type": "markdown",
      "metadata": {
        "id": "W7DvzZUnTahe"
      },
      "source": [
        "How long does it take to make a move? Start with a smaller board with 4 columns and make the board larger by adding columns."
      ]
    },
    {
      "cell_type": "markdown",
      "metadata": {},
      "source": [
        "_I will use a board with 4 rows since the alpha beta search with no cutoff takes a while to run._"
      ]
    },
    {
      "cell_type": "code",
      "execution_count": 21,
      "metadata": {
        "id": "nF8g87PLTahe"
      },
      "outputs": [
        {
          "data": {
            "text/plain": [
              "{'move': (3, 0), 'value': 0}"
            ]
          },
          "metadata": {},
          "output_type": "display_data"
        },
        {
          "name": "stdout",
          "output_type": "stream",
          "text": [
            "CPU times: user 1.13 s, sys: 29.3 ms, total: 1.16 s\n",
            "Wall time: 838 ms\n"
          ]
        }
      ],
      "source": [
        "# 4x4 board\n",
        "board = [[0, 0, 0, 0],\n",
        "         [0, 0, 0, 0],\n",
        "         [0, 0, 0, 0],\n",
        "         [0, 0, 0, 0]]\n",
        "\n",
        "%time display(alpha_beta_search(board))"
      ]
    },
    {
      "cell_type": "code",
      "execution_count": 22,
      "metadata": {},
      "outputs": [
        {
          "data": {
            "text/plain": [
              "{'move': (3, 1), 'value': 0}"
            ]
          },
          "metadata": {},
          "output_type": "display_data"
        },
        {
          "name": "stdout",
          "output_type": "stream",
          "text": [
            "CPU times: user 5min, sys: 208 ms, total: 5min 1s\n",
            "Wall time: 5min 1s\n"
          ]
        }
      ],
      "source": [
        "# 4x5 board\n",
        "board = [[0, 0, 0, 0, 0],\n",
        "         [0, 0, 0, 0, 0],\n",
        "         [0, 0, 0, 0, 0],\n",
        "         [0, 0, 0, 0, 0]]\n",
        "\n",
        "%time display(alpha_beta_search(board))"
      ]
    },
    {
      "cell_type": "code",
      "execution_count": 23,
      "metadata": {},
      "outputs": [],
      "source": [
        "# 4x6 board\n",
        "board = [[0, 0, 0, 0, 0, 0],\n",
        "         [0, 0, 0, 0, 0, 0],\n",
        "         [0, 0, 0, 0, 0, 0],\n",
        "         [0, 0, 0, 0, 0, 0]]\n",
        "#%time display(alpha_beta_search(board))\n",
        "\n",
        "# I stopped running this cell after 35 minutes. After calculation, this cell should take over 1000 minutes to run. As we can see the time increases durastically with the addition of columns."
      ]
    },
    {
      "cell_type": "markdown",
      "metadata": {},
      "source": [
        "_I will stop here since the runtime is so long._"
      ]
    },
    {
      "cell_type": "markdown",
      "metadata": {},
      "source": [
        "The move time for the 4x4 board was 0.8 seconds. This shot up dramatically for the 4x5 board with a time of 4 minutes 57 seconds. This is a factor of 500 for the increase in time with adding another column. Additionally, this is only for a board with 4 rows, so the runtime would be much longer for a standard size board."
      ]
    },
    {
      "cell_type": "markdown",
      "metadata": {
        "id": "tPqAjCGSTahe"
      },
      "source": [
        "### Move ordering [5 points]\n",
        "\n",
        "Starting the search with better moves will increase the efficiency of alpha-beta pruning. Describe and implement a simple move ordering strategy. Make a table that shows how the ordering strategies influence the time it takes to make a move?"
      ]
    },
    {
      "cell_type": "markdown",
      "metadata": {},
      "source": [
        "_We can implement a move ordering algorithm that prioritizes the middle of the board. This assumes that if we move in the middle of the board, there are more chances for pieces to connect on either side._"
      ]
    },
    {
      "cell_type": "code",
      "execution_count": 24,
      "metadata": {},
      "outputs": [],
      "source": [
        "# priority for 6x7\n",
        "def actions(s):\n",
        "    action = []\n",
        "    col_actions = []\n",
        "    priority = [0,0.5,1,2,1,0.5,0]\n",
        "\n",
        "    for i in range(len(s[0])):\n",
        "            if s[0][i] == 0:\n",
        "                for j in range(len(s)):\n",
        "                        if s[j][i] == 0:\n",
        "                                col_actions.append(j)\n",
        "                action.append((np.max(col_actions),i))\n",
        "                col_actions = []\n",
        "\n",
        "    priority_action = [a for _,a in sorted(zip(priority,action), reverse = True)]\n",
        "    return priority_action"
      ]
    },
    {
      "cell_type": "code",
      "execution_count": 25,
      "metadata": {},
      "outputs": [],
      "source": [
        "# priority for any size\n",
        "def actions(s):\n",
        "    action = []\n",
        "    col_actions = []\n",
        "    priority = []\n",
        "    length = len(s[0])\n",
        "\n",
        "    if length%2 == 0:\n",
        "        p = 0\n",
        "        for i in range(0,int(length/2)):\n",
        "            if s[0][i] == 0:\n",
        "                priority.append(p)\n",
        "                p += 1\n",
        "        for i in range(int(length/2), length):\n",
        "            if s[0][i] == 0:\n",
        "                p -= 1\n",
        "                priority.append(p)\n",
        "    else:\n",
        "        p = -1\n",
        "        for i in range(0,math.ceil(length/2)):\n",
        "            if s[0][i] == 0:\n",
        "                p += 1\n",
        "                priority.append(p)\n",
        "        for i in range(math.ceil(length/2), length):\n",
        "            if s[0][i] == 0:\n",
        "                p -= 1\n",
        "                priority.append(p)\n",
        "        \n",
        "    for i in range(len(s[0])):\n",
        "            if s[0][i] == 0:\n",
        "                for j in range(len(s)):\n",
        "                        if s[j][i] == 0:\n",
        "                                col_actions.append(j)\n",
        "                action.append((np.max(col_actions),i))\n",
        "                col_actions = []\n",
        "\n",
        "    priority_action = [a for _,a in sorted(zip(priority,action), reverse = True)]\n",
        "    return priority_action"
      ]
    },
    {
      "cell_type": "code",
      "execution_count": 26,
      "metadata": {},
      "outputs": [
        {
          "data": {
            "image/png": "[encoded data removed]",
            "text/plain": [
              "<Figure size 640x480 with 1 Axes>"
            ]
          },
          "metadata": {},
          "output_type": "display_data"
        },
        {
          "data": {
            "text/plain": [
              "[(2, 2), (1, 1), (2, 3), (1, 0)]"
            ]
          },
          "execution_count": 26,
          "metadata": {},
          "output_type": "execute_result"
        }
      ],
      "source": [
        "board = [[0, 0, 0, 0],\n",
        "         [0, 0, 0, 0],\n",
        "         [-1,1, 0, 0],\n",
        "         [-1,1,-1, 1]]\n",
        "visualize(board)\n",
        "actions(board)"
      ]
    },
    {
      "cell_type": "code",
      "execution_count": 27,
      "metadata": {},
      "outputs": [
        {
          "data": {
            "text/plain": [
              "{'move': (3, 2), 'value': 0}"
            ]
          },
          "metadata": {},
          "output_type": "display_data"
        },
        {
          "name": "stdout",
          "output_type": "stream",
          "text": [
            "CPU times: user 4.15 s, sys: 15.8 ms, total: 4.17 s\n",
            "Wall time: 3.84 s\n"
          ]
        }
      ],
      "source": [
        "# 4x4 board\n",
        "board = [[0, 0, 0, 0],\n",
        "         [0, 0, 0, 0],\n",
        "         [0, 0, 0, 0],\n",
        "         [0, 0, 0, 0]]\n",
        "\n",
        "%time display(alpha_beta_search(board))"
      ]
    },
    {
      "cell_type": "code",
      "execution_count": 28,
      "metadata": {},
      "outputs": [
        {
          "data": {
            "text/plain": [
              "{'move': (3, 2), 'value': 0}"
            ]
          },
          "metadata": {},
          "output_type": "display_data"
        },
        {
          "name": "stdout",
          "output_type": "stream",
          "text": [
            "CPU times: user 2min 47s, sys: 102 ms, total: 2min 48s\n",
            "Wall time: 2min 48s\n"
          ]
        }
      ],
      "source": [
        "# 4x5 board\n",
        "board = [[0, 0, 0, 0, 0],\n",
        "         [0, 0, 0, 0, 0],\n",
        "         [0, 0, 0, 0, 0],\n",
        "         [0, 0, 0, 0, 0]]\n",
        "\n",
        "%time display(alpha_beta_search(board))"
      ]
    },
    {
      "cell_type": "code",
      "execution_count": 29,
      "metadata": {},
      "outputs": [
        {
          "data": {
            "text/html": [
              "<div>\n",
              "<style scoped>\n",
              "    .dataframe tbody tr th:only-of-type {\n",
              "        vertical-align: middle;\n",
              "    }\n",
              "\n",
              "    .dataframe tbody tr th {\n",
              "        vertical-align: top;\n",
              "    }\n",
              "\n",
              "    .dataframe thead th {\n",
              "        text-align: right;\n",
              "    }\n",
              "</style>\n",
              "<table border=\"1\" class=\"dataframe\">\n",
              "  <thead>\n",
              "    <tr style=\"text-align: right;\">\n",
              "      <th></th>\n",
              "      <th>Algorithm &amp; Size</th>\n",
              "      <th>Runtime</th>\n",
              "    </tr>\n",
              "  </thead>\n",
              "  <tbody>\n",
              "    <tr>\n",
              "      <th>0</th>\n",
              "      <td>No Move Ordering, 4x4</td>\n",
              "      <td>0.812 s</td>\n",
              "    </tr>\n",
              "    <tr>\n",
              "      <th>1</th>\n",
              "      <td>No Move Ordering, 4x5</td>\n",
              "      <td>4m 57s</td>\n",
              "    </tr>\n",
              "    <tr>\n",
              "      <th>2</th>\n",
              "      <td>Move Ordering, 4x4</td>\n",
              "      <td>3.68 s</td>\n",
              "    </tr>\n",
              "    <tr>\n",
              "      <th>3</th>\n",
              "      <td>Move Ordering, 4x5</td>\n",
              "      <td>2m 42s</td>\n",
              "    </tr>\n",
              "  </tbody>\n",
              "</table>\n",
              "</div>"
            ],
            "text/plain": [
              "        Algorithm & Size  Runtime\n",
              "0  No Move Ordering, 4x4  0.812 s\n",
              "1  No Move Ordering, 4x5   4m 57s\n",
              "2     Move Ordering, 4x4   3.68 s\n",
              "3     Move Ordering, 4x5   2m 42s"
            ]
          },
          "metadata": {},
          "output_type": "display_data"
        }
      ],
      "source": [
        "import pandas as pd\n",
        "dict = {'Algorithm & Size' : ['No Move Ordering, 4x4','No Move Ordering, 4x5','Move Ordering, 4x4','Move Ordering, 4x5'], \n",
        "        'Runtime' : ['0.812 s', '4m 57s', '3.68 s', '2m 42s']}\n",
        "df = pd.DataFrame(dict)\n",
        "display(df)"
      ]
    },
    {
      "cell_type": "markdown",
      "metadata": {},
      "source": [
        "It appears the runtime for the 4x4 board goes up when adding move ordering. However, the runtime for the 4x5 board goes down. This could be because of a number of different factors. Possibly, prioritizing the center of the board is better for both larger board or boards with an odd number of columns."
      ]
    },
    {
      "cell_type": "markdown",
      "metadata": {
        "id": "iWYnf0BnTahe"
      },
      "source": [
        "### The first few moves [5 points]\n",
        "\n",
        "Start with an empty board. This is the worst case scenario for minimax search since it needs solve all possible games that can be played (minus some pruning) before making the decision. What can you do?"
      ]
    },
    {
      "cell_type": "code",
      "execution_count": 30,
      "metadata": {
        "id": "nAjK7ExqTahf"
      },
      "outputs": [],
      "source": [
        "# 6x7 board\n",
        "board = [[0, 0, 0, 0, 0, 0, 0],\n",
        "         [0, 0, 0, 0, 0, 0, 0],\n",
        "         [0, 0, 0, 0, 0, 0, 0],\n",
        "         [0, 0, 0, 0, 0, 0, 0],\n",
        "         [0, 0, 0, 0, 0, 0, 0],\n",
        "         [0, 0, 0, 0, 0, 0, 0]]\n",
        "\n",
        "#%time display(alpha_beta_search(board))\n",
        "\n",
        "# runtime is very high"
      ]
    },
    {
      "cell_type": "markdown",
      "metadata": {},
      "source": [
        "_Let's add an opening series for the agent to reduce the runtime for the opening move on an empty board._"
      ]
    },
    {
      "cell_type": "code",
      "execution_count": 31,
      "metadata": {},
      "outputs": [],
      "source": [
        "def opening(state,player=1,debug=False):\n",
        "    # use convolution and alpha beta search to open\n",
        "    s = np.copy(state)\n",
        "    length = len(s[0])\n",
        "    opening_col = []\n",
        "\n",
        "    if length%2 == 0:\n",
        "        for i in range(int(length/2)-2,int(length/2)+2):\n",
        "            opening_col.append(i)\n",
        "    elif length%2 != 0:\n",
        "        for i in range(math.ceil(length/2)-2,math.ceil(length/2)+1):\n",
        "            opening_col.append(i)\n",
        "\n",
        "    search_area = []\n",
        "\n",
        "    for row in range(len(s)-3,len(s)):\n",
        "        conv_row = []\n",
        "        for col in opening_col:\n",
        "            conv_row.append(s[row][col])\n",
        "        search_area.append(conv_row)\n",
        "    if debug: print('search area: ',search_area)\n",
        "\n",
        "    a, v = list(alpha_beta_search(search_area, player=1).values())\n",
        "    if debug: print('result from alpha beta: ',a)\n",
        "    idx = a[1]\n",
        "    #if debug: print('search_area[2]: ', search_area[2], 'a[1]: ', a[1])\n",
        "    col = opening_col[a[1]]\n",
        "\n",
        "    #col = np.random.choice(search_area)\n",
        "    if debug: print('correlating column of original board: ',col)\n",
        "\n",
        "    action = []\n",
        "    for row in range(len(s)):\n",
        "        if s[row][col] == 0:\n",
        "            action.append(row)\n",
        "\n",
        "    if debug: print('returning action: ', (np.max(action),col))\n",
        "    return (np.max(action),col), v\n"
      ]
    },
    {
      "cell_type": "code",
      "execution_count": 32,
      "metadata": {},
      "outputs": [
        {
          "name": "stdout",
          "output_type": "stream",
          "text": [
            "search area:  [[0, 0, 0], [0, 0, 0], [1, 2, 3]]\n",
            "result from alpha beta:  (1, 1)\n",
            "correlating column of original board:  3\n",
            "returning action:  (4, 3)\n"
          ]
        },
        {
          "data": {
            "text/plain": [
              "((4, 3), 0)"
            ]
          },
          "execution_count": 32,
          "metadata": {},
          "output_type": "execute_result"
        }
      ],
      "source": [
        "board = [[0, 0, 0, 0, 0, 0, 0],\n",
        "         [0, 0, 0, 0, 0, 0, 0],\n",
        "         [0, 0, 0, 0, 0, 0, 0],\n",
        "         [0, 0, 0, 0, 0, 0, 0],\n",
        "         [0, 0, 0, 0, 0, 0, 0],\n",
        "         [0, 0, 1, 2, 3, 0, 0]]\n",
        "\n",
        "opening(board, debug=True)"
      ]
    },
    {
      "cell_type": "code",
      "execution_count": 33,
      "metadata": {},
      "outputs": [],
      "source": [
        "# alpha beta search with opening moves\n",
        "def alpha_beta_search_opening(board, player = 1):\n",
        "    b = np.copy(board)\n",
        "    if np.count_nonzero(b) < 4:\n",
        "        a, v = opening(board,player)\n",
        "        # keep same signature as regular return\n",
        "        return {\"move\": a, \"value\": v}\n",
        "                \n",
        "    value, move = max_value_ab(board, player, -math.inf, +math.inf)\n",
        "    return {\"move\": move, \"value\": value}"
      ]
    },
    {
      "cell_type": "code",
      "execution_count": 34,
      "metadata": {},
      "outputs": [
        {
          "data": {
            "text/plain": [
              "{'move': (3, 2), 'value': 0}"
            ]
          },
          "execution_count": 34,
          "metadata": {},
          "output_type": "execute_result"
        }
      ],
      "source": [
        "board = [[0, 0, 0, 0],\n",
        "         [0, 0, 0, 0],\n",
        "         [0, 0, 0, 0],\n",
        "         [0, 0, 0, 0]]\n",
        "alpha_beta_search_opening(board)"
      ]
    },
    {
      "cell_type": "markdown",
      "metadata": {
        "id": "nXjJrJ2oTahf"
      },
      "source": [
        "### Playtime [5 points]\n",
        "\n",
        "Let the Minimax Search agent play a random agent on a small board. Analyze wins, losses and draws."
      ]
    },
    {
      "cell_type": "markdown",
      "metadata": {},
      "source": [
        "_Redefining the play function to change board size_"
      ]
    },
    {
      "cell_type": "code",
      "execution_count": 35,
      "metadata": {},
      "outputs": [],
      "source": [
        "def play_four(r, y, N = 100, vis = False):\n",
        "    \"\"\"Let two agents play each other N times. x starts. x and y are agent functions that \n",
        "    get the board as the percept and return their next action.\"\"\"\n",
        "    results = {'red': 0, 'yellow': 0, 'draw': 0}\n",
        "    \n",
        "    for i in range(N):\n",
        "        board = empty_board(shape=(4,4))\n",
        "        player, fun = 1, r\n",
        "        \n",
        "        while True:\n",
        "            a = fun(board, player)\n",
        "            #print('action: ',a)\n",
        "            board = result(board, player, a)\n",
        "            \n",
        "            game_end = terminal(board)   # returns false if the game is not done.\n",
        "            if game_end:\n",
        "                outcome = check_outcome(board)\n",
        "                if outcome == 1:\n",
        "                    results['red'] += 1\n",
        "                elif outcome == -1:\n",
        "                    results['yellow'] += 1\n",
        "                elif outcome == 0:\n",
        "                    results['draw'] += 1\n",
        "                if vis:\n",
        "                    visualize(board)\n",
        "                break\n",
        "            \n",
        "            player, fun = switch_player(player, r, y)   \n",
        "    \n",
        "    return results"
      ]
    },
    {
      "cell_type": "code",
      "execution_count": 36,
      "metadata": {},
      "outputs": [],
      "source": [
        "def ab_player(board,player=1):\n",
        "    return list(alpha_beta_search_opening(board,player).values())[0]"
      ]
    },
    {
      "cell_type": "code",
      "execution_count": 37,
      "metadata": {
        "id": "0eA2wp0ITahf"
      },
      "outputs": [
        {
          "data": {
            "text/plain": [
              "{'red': 47, 'yellow': 0, 'draw': 53}"
            ]
          },
          "metadata": {},
          "output_type": "display_data"
        },
        {
          "name": "stdout",
          "output_type": "stream",
          "text": [
            "CPU times: user 23.3 s, sys: 19.8 ms, total: 23.3 s\n",
            "Wall time: 23.4 s\n"
          ]
        }
      ],
      "source": [
        "# opening agent\n",
        "%time display(play_four(ab_player, random_player, N = 100))"
      ]
    },
    {
      "cell_type": "markdown",
      "metadata": {},
      "source": [
        "_Performance is about the same, so we will move forward with the opening agent since it is faster._"
      ]
    },
    {
      "cell_type": "markdown",
      "metadata": {
        "id": "8r_irCGYTahf"
      },
      "source": [
        "## Task 4: Heuristic Alpha-Beta Tree Search\n",
        "\n",
        "### Heuristic evaluation function [15 points]\n",
        "\n",
        "Define and implement a heuristic evaluation function."
      ]
    },
    {
      "cell_type": "code",
      "execution_count": 38,
      "metadata": {},
      "outputs": [],
      "source": [
        "def eval_adjacent(adjacent,player):\n",
        "    p_pieces = 0\n",
        "    op_pieces = 0\n",
        "    spaces = 0\n",
        "    score = 0\n",
        "\n",
        "    for p in adjacent:\n",
        "        if p == player:\n",
        "            p_pieces += 1\n",
        "        elif p == -player:\n",
        "            op_pieces += 1\n",
        "        else:\n",
        "            spaces += 1\n",
        "\n",
        "    if p_pieces == 2 and spaces == 2:\n",
        "        score = 0.05\n",
        "    elif p_pieces == 2:\n",
        "        score = 0.025\n",
        "    elif p_pieces == 3 or op_pieces == 3:\n",
        "        score = 0.1\n",
        "    elif p_pieces == 1:\n",
        "        score = 0.025\n",
        "\n",
        "    return score\n",
        "    "
      ]
    },
    {
      "cell_type": "code",
      "execution_count": 39,
      "metadata": {
        "id": "vd1ce8sxTahe"
      },
      "outputs": [],
      "source": [
        "def eval_fun(state, player = 1):\n",
        "    # first check if terminal\n",
        "    s = state.copy()\n",
        "\n",
        "    if utility(state, player) != None: return utility(state,player), True\n",
        "    score = 0\n",
        "\n",
        "    # check heuristic to the right\n",
        "    for j in range(len(s[0])-3):\n",
        "        for i in range(len(s)):\n",
        "            right = [s[i][j], s[i][j+1], s[i][j+2], s[i][j+3]]\n",
        "            score += eval_adjacent(right, player)\n",
        "    \n",
        "    # check heuristic down\n",
        "    for j in range(len(s[0])):\n",
        "        for i in range(len(s)-3):\n",
        "            down = [s[i][j], s[i+1][j], s[i+2][j], s[i+3][j]]\n",
        "            score += eval_adjacent(down, player)\n",
        "\n",
        "    # check heuristic along right diagonal\n",
        "    for j in range(len(s[0])-3):\n",
        "        for i in range(len(s)-3):\n",
        "            right_diag = [s[i][j], s[i+1][j+1], s[i+2][j+2], s[i+3][j+3]]\n",
        "            score += eval_adjacent(right_diag, player)\n",
        "\n",
        "    # check heuristic along left diagonal\n",
        "    for j in range(3,len(s[0])):\n",
        "        for i in range(len(s)-3):\n",
        "            left_diag = [s[i][j], s[i+1][j-1], s[i+2][j-2], s[i+3][j-3]]\n",
        "            score += eval_adjacent(left_diag, player)\n",
        "\n",
        "    return score, False"
      ]
    },
    {
      "cell_type": "markdown",
      "metadata": {
        "id": "naE7gbvWTahf"
      },
      "source": [
        "### Cutting off search [10 points]\n",
        "\n",
        "Modify your Minimax Search with Alpha-Beta Pruning to cut off search at a specified depth and use the heuristic evaluation function. Experiment with different cutoff values."
      ]
    },
    {
      "cell_type": "code",
      "execution_count": 40,
      "metadata": {
        "id": "rxtLr1vhTahf"
      },
      "outputs": [],
      "source": [
        "def alpha_beta_search_cutoff(board, cutoff = None, player = 1):\n",
        "    value, move = max_value_ab_cutoff(board, player, -math.inf, +math.inf, 0, cutoff)\n",
        "    return {\"move\" : move, \"value\" : value}\n",
        "\n",
        "def max_value_ab_cutoff(state, player, alpha, beta, depth, cutoff):\n",
        "    v, game_end = eval_fun(state, player)\n",
        "    if((cutoff != None and depth >= cutoff) or game_end):\n",
        "        if game_end:\n",
        "            alpha, beta = v, v\n",
        "        return v, None\n",
        "    \n",
        "    v, move = -math.inf, None\n",
        "\n",
        "    for a in actions(state):\n",
        "        v2, a2 = min_value_ab_cutoff(result(state, player, a), player, alpha, beta, depth+1, cutoff)\n",
        "        if v2 >v:\n",
        "            v, move = v2, a\n",
        "            alpha = max(alpha, v)\n",
        "        if v>= beta: return v, move\n",
        "\n",
        "    return v, move\n",
        "\n",
        "def min_value_ab_cutoff(state, player, alpha, beta, depth, cutoff):\n",
        "    v, game_end = eval_fun(state, player)\n",
        "    if((cutoff != None and depth >= cutoff) or game_end):\n",
        "        if game_end:\n",
        "            alpha, beta = v, v\n",
        "        return v, None\n",
        "    \n",
        "    v, move = +math.inf, None\n",
        "\n",
        "    for a in actions(state):\n",
        "        v2, a2 = max_value_ab_cutoff(result(state, other(player), a), player, alpha, beta, depth+1, cutoff)\n",
        "        if v2 < v:\n",
        "            v, move = v2, a\n",
        "            beta = min(beta, v)\n",
        "        if v <= alpha: return v, move\n",
        "\n",
        "    return v, move"
      ]
    },
    {
      "cell_type": "code",
      "execution_count": 41,
      "metadata": {},
      "outputs": [],
      "source": [
        "# alpha beta search with opening moves\n",
        "def alpha_beta_search_cutoff_opening(board, cutoff = None, player = 1):\n",
        "    b = np.copy(board)\n",
        "    if np.count_nonzero(b) < 6:\n",
        "        a, v = opening(board,player)\n",
        "        # keep same signature as regular return\n",
        "        return {\"move\": a, \"value\": v}\n",
        "                \n",
        "    value, move = max_value_ab_cutoff(board, player, -math.inf, +math.inf, 0, cutoff)\n",
        "    return {\"move\": move, \"value\": value}"
      ]
    },
    {
      "cell_type": "code",
      "execution_count": 42,
      "metadata": {},
      "outputs": [
        {
          "data": {
            "text/plain": [
              "{'move': (5, 3), 'value': 0}"
            ]
          },
          "metadata": {},
          "output_type": "display_data"
        },
        {
          "name": "stdout",
          "output_type": "stream",
          "text": [
            "CPU times: user 3.36 ms, sys: 1.31 ms, total: 4.67 ms\n",
            "Wall time: 3.73 ms\n"
          ]
        }
      ],
      "source": [
        "# 6x7 board\n",
        "board = [[0, 0, 0, 0, 0, 0, 0],\n",
        "         [0, 0, 0, 0, 0, 0, 0],\n",
        "         [0, 0, 0, 0, 0, 0, 0],\n",
        "         [0, 0, 0, 0, 0, 0, 0],\n",
        "         [0, 0, 0, 0, 0, 0, 0],\n",
        "         [0, 0, 0, 0, 0, 0, 0]]\n",
        "\n",
        "%time display(alpha_beta_search_cutoff_opening(board, cutoff=20))"
      ]
    },
    {
      "cell_type": "markdown",
      "metadata": {},
      "source": [
        "_Runtime for the first couple of moves is the same regardless of cutoff because of the opening move component of the algorithm. Let's see how it performs for boards that are not empty._"
      ]
    },
    {
      "cell_type": "code",
      "execution_count": 43,
      "metadata": {},
      "outputs": [
        {
          "data": {
            "image/png": "[encoded data removed]",
            "text/plain": [
              "<Figure size 640x480 with 1 Axes>"
            ]
          },
          "metadata": {},
          "output_type": "display_data"
        },
        {
          "data": {
            "text/plain": [
              "{'move': (4, 4), 'value': 1.624999999999999}"
            ]
          },
          "metadata": {},
          "output_type": "display_data"
        },
        {
          "name": "stdout",
          "output_type": "stream",
          "text": [
            "CPU times: user 2.22 s, sys: 62.4 ms, total: 2.28 s\n",
            "Wall time: 1.79 s\n"
          ]
        }
      ],
      "source": [
        "# cutoff = 5\n",
        "board = [[0, 0, 0, 0, 0, 0, 0],\n",
        "         [0, 0, 0, 0, 0, 0, 0],\n",
        "         [0, 0, 0, 0, 0, 0, 0],\n",
        "         [0, 0, 0, 1, 0, 0, 0],\n",
        "         [0, 0, 0, 1, 0, 0, 0],\n",
        "         [0,-1,-1, 1,-1, 0, 0]]\n",
        "visualize(board)\n",
        "\n",
        "%time display(alpha_beta_search_cutoff_opening(board, cutoff=8))"
      ]
    },
    {
      "cell_type": "code",
      "execution_count": 44,
      "metadata": {},
      "outputs": [
        {
          "data": {
            "text/plain": [
              "{'move': (5, 3), 'value': 0.6750000000000003}"
            ]
          },
          "metadata": {},
          "output_type": "display_data"
        },
        {
          "name": "stdout",
          "output_type": "stream",
          "text": [
            "CPU times: user 60.4 ms, sys: 4.96 ms, total: 65.4 ms\n",
            "Wall time: 61.1 ms\n"
          ]
        }
      ],
      "source": [
        "# cutoff = 5\n",
        "board = [[0, 0, 0, 0, 0, 0, 0],\n",
        "         [0, 0, 0, 0, 0, 0, 0],\n",
        "         [0, 0, 0, 0, 0, 0, 0],\n",
        "         [0, 0, 0, 0, 0, 0, 0],\n",
        "         [0, 0, 0, 0, 0, 0, 0],\n",
        "         [0, 0, 0, 0, 0, 0, 0]]\n",
        "\n",
        "%time display(alpha_beta_search_cutoff(board, cutoff=5))"
      ]
    },
    {
      "cell_type": "markdown",
      "metadata": {
        "id": "NGVBghu8Tahf"
      },
      "source": [
        "Experiment with the same manually created boards as above to check if the agent spots wining opportunities."
      ]
    },
    {
      "cell_type": "markdown",
      "metadata": {},
      "source": [
        "_Let's use the same board from earlier to see how our new algorithms performs compared to the older algorithms._"
      ]
    },
    {
      "cell_type": "code",
      "execution_count": 45,
      "metadata": {
        "id": "EbDLtZdxTahg"
      },
      "outputs": [
        {
          "data": {
            "image/png": "[encoded data removed]",
            "text/plain": [
              "<Figure size 640x480 with 1 Axes>"
            ]
          },
          "metadata": {},
          "output_type": "display_data"
        },
        {
          "data": {
            "text/plain": [
              "{'move': (4, 4), 'value': 1.624999999999999}"
            ]
          },
          "metadata": {},
          "output_type": "display_data"
        },
        {
          "name": "stdout",
          "output_type": "stream",
          "text": [
            "CPU times: user 2.19 s, sys: 2.55 ms, total: 2.19 s\n",
            "Wall time: 1.78 s\n"
          ]
        }
      ],
      "source": [
        "# board 1\n",
        "board = [[0, 0, 0, 0, 0, 0, 0],\n",
        "         [0, 0, 0, 0, 0, 0, 0],\n",
        "         [0, 0, 0, 0, 0, 0, 0],\n",
        "         [0, 0, 0, 1, 0, 0, 0],\n",
        "         [0, 0, 0, 1, 0, 0, 0],\n",
        "         [0,-1,-1, 1,-1, 0, 0]]\n",
        "visualize(board)\n",
        "%time display(alpha_beta_search_cutoff_opening(board, cutoff=8))"
      ]
    },
    {
      "cell_type": "code",
      "execution_count": 46,
      "metadata": {},
      "outputs": [
        {
          "data": {
            "image/png": "[encoded data removed]",
            "text/plain": [
              "<Figure size 640x480 with 1 Axes>"
            ]
          },
          "metadata": {},
          "output_type": "display_data"
        },
        {
          "data": {
            "text/plain": [
              "{'move': (2, 2), 'value': 1.7499999999999991}"
            ]
          },
          "metadata": {},
          "output_type": "display_data"
        },
        {
          "name": "stdout",
          "output_type": "stream",
          "text": [
            "CPU times: user 4.59 s, sys: 129 ms, total: 4.72 s\n",
            "Wall time: 4.25 s\n"
          ]
        }
      ],
      "source": [
        "# board 2\n",
        "board = [[0, 0, 0, 0, 0, 0, 0],\n",
        "         [0, 0, 0, 0, 0, 0, 0],\n",
        "         [0, 0, 0, 0, 0, 0, 0],\n",
        "         [0, 0, 1,-1, 0, 0, 0],\n",
        "         [0, 0,-1,-1, 1, 0, 0],\n",
        "         [0, 1, 1, 1,-1, 0, 0]]\n",
        "visualize(board)\n",
        "%time display(alpha_beta_search_cutoff_opening(board, cutoff=8))"
      ]
    },
    {
      "cell_type": "code",
      "execution_count": 47,
      "metadata": {},
      "outputs": [
        {
          "data": {
            "image/png": "[encoded data removed]",
            "text/plain": [
              "<Figure size 640x480 with 1 Axes>"
            ]
          },
          "metadata": {},
          "output_type": "display_data"
        },
        {
          "data": {
            "text/plain": [
              "{'move': (2, 4), 'value': 1.2249999999999994}"
            ]
          },
          "metadata": {},
          "output_type": "display_data"
        },
        {
          "name": "stdout",
          "output_type": "stream",
          "text": [
            "CPU times: user 2.34 s, sys: 62 ms, total: 2.41 s\n",
            "Wall time: 1.9 s\n"
          ]
        }
      ],
      "source": [
        "# board 3\n",
        "board = [[0, 0, 0, 0, 0, 0, 0],\n",
        "         [0, 0, 0, 0, 0, 0, 0],\n",
        "         [0, 0, 0, 0, 0, 0, 0],\n",
        "         [0, 0, 0, 0,-1, 0, 1],\n",
        "         [0, 0, 0, 0,-1, 0, 1],\n",
        "         [0, 0, 0, 0,-1, 0, 1]]\n",
        "visualize(board)\n",
        "%time display(alpha_beta_search_cutoff_opening(board, cutoff=8))"
      ]
    },
    {
      "cell_type": "code",
      "execution_count": 48,
      "metadata": {},
      "outputs": [
        {
          "data": {
            "image/png": "[encoded data removed]",
            "text/plain": [
              "<Figure size 640x480 with 1 Axes>"
            ]
          },
          "metadata": {},
          "output_type": "display_data"
        },
        {
          "data": {
            "text/plain": [
              "{'move': (3, 3), 'value': -1}"
            ]
          },
          "metadata": {},
          "output_type": "display_data"
        },
        {
          "name": "stdout",
          "output_type": "stream",
          "text": [
            "CPU times: user 2.95 s, sys: 88.6 ms, total: 3.04 s\n",
            "Wall time: 2.51 s\n"
          ]
        }
      ],
      "source": [
        "# board 4\n",
        "board = [[0, 0, 0, 0, 0, 0, 0],\n",
        "         [0, 0, 0, 0, 0, 0, 0],\n",
        "         [0, 0, 0, 0, 0, 0, 0],\n",
        "         [1,-1, 0, 0,-1, 1,-1],\n",
        "         [-1,1,-1, 1,-1, 1,-1],\n",
        "         [1,-1, 1,-1, 1,-1, 1]]\n",
        "visualize(board)\n",
        "%time display(alpha_beta_search_cutoff_opening(board, cutoff=8))"
      ]
    },
    {
      "cell_type": "code",
      "execution_count": 49,
      "metadata": {},
      "outputs": [
        {
          "data": {
            "image/png": "[encoded data removed]",
            "text/plain": [
              "<Figure size 640x480 with 1 Axes>"
            ]
          },
          "metadata": {},
          "output_type": "display_data"
        },
        {
          "data": {
            "text/plain": [
              "{'move': (2, 3), 'value': 2.3249999999999984}"
            ]
          },
          "metadata": {},
          "output_type": "display_data"
        },
        {
          "name": "stdout",
          "output_type": "stream",
          "text": [
            "CPU times: user 6.71 s, sys: 204 ms, total: 6.91 s\n",
            "Wall time: 6.29 s\n"
          ]
        }
      ],
      "source": [
        "# board 5\n",
        "board = [[0, 0, 0, 0, 0, 0, 0],\n",
        "         [0, 0, 0, 0, 0, 0, 0],\n",
        "         [0, 0, 1, 0, 0, 0, 0],\n",
        "         [0, 0,-1, 1,-1, 0, 0],\n",
        "         [0, 1,-1,-1, 1, 0, 0],\n",
        "         [1,-1, 1, 1,-1, 0, 0]]\n",
        "visualize(board)\n",
        "%time display(alpha_beta_search_cutoff_opening(board, cutoff=10))"
      ]
    },
    {
      "cell_type": "markdown",
      "metadata": {
        "id": "2phXOl0UTahg"
      },
      "source": [
        "How long does it take to make a move? Start with a smaller board with 4 columns and make the board larger by adding columns."
      ]
    },
    {
      "cell_type": "code",
      "execution_count": 50,
      "metadata": {
        "id": "d8mIbgtYTahg"
      },
      "outputs": [
        {
          "data": {
            "text/plain": [
              "{'move': (5, 2), 'value': 0}"
            ]
          },
          "metadata": {},
          "output_type": "display_data"
        },
        {
          "name": "stdout",
          "output_type": "stream",
          "text": [
            "CPU times: user 73.9 ms, sys: 9.38 ms, total: 83.3 ms\n",
            "Wall time: 76.4 ms\n"
          ]
        }
      ],
      "source": [
        "# 6x4 board\n",
        "board = [[0, 0, 0, 0],\n",
        "         [0, 0, 0, 0],\n",
        "         [0, 0, 0, 0],\n",
        "         [0, 0, 0, 0],\n",
        "         [0, 0, 0, 0],\n",
        "         [0, 0, 0, 0]]\n",
        "\n",
        "%time display(alpha_beta_search_cutoff_opening(board, cutoff=10))"
      ]
    },
    {
      "cell_type": "code",
      "execution_count": 51,
      "metadata": {},
      "outputs": [
        {
          "data": {
            "text/plain": [
              "{'move': (5, 2), 'value': 0}"
            ]
          },
          "metadata": {},
          "output_type": "display_data"
        },
        {
          "name": "stdout",
          "output_type": "stream",
          "text": [
            "CPU times: user 3.75 ms, sys: 1.9 ms, total: 5.64 ms\n",
            "Wall time: 4.42 ms\n"
          ]
        }
      ],
      "source": [
        "# 6x5 board\n",
        "board = [[0, 0, 0, 0, 0],\n",
        "         [0, 0, 0, 0, 0],\n",
        "         [0, 0, 0, 0, 0],\n",
        "         [0, 0, 0, 0, 0],\n",
        "         [0, 0, 0, 0, 0],\n",
        "         [0, 0, 0, 0, 0]]\n",
        "\n",
        "%time display(alpha_beta_search_cutoff_opening(board, cutoff=10))"
      ]
    },
    {
      "cell_type": "code",
      "execution_count": 52,
      "metadata": {},
      "outputs": [
        {
          "data": {
            "text/plain": [
              "{'move': (5, 3), 'value': 0}"
            ]
          },
          "metadata": {},
          "output_type": "display_data"
        },
        {
          "name": "stdout",
          "output_type": "stream",
          "text": [
            "CPU times: user 72.6 ms, sys: 1.37 ms, total: 74 ms\n",
            "Wall time: 80.6 ms\n"
          ]
        }
      ],
      "source": [
        "# 6x6 board\n",
        "board = [[0, 0, 0, 0, 0, 0],\n",
        "         [0, 0, 0, 0, 0, 0],\n",
        "         [0, 0, 0, 0, 0, 0],\n",
        "         [0, 0, 0, 0, 0, 0],\n",
        "         [0, 0, 0, 0, 0, 0],\n",
        "         [0, 0, 0, 0, 0, 0]]\n",
        "\n",
        "%time display(alpha_beta_search_cutoff_opening(board, cutoff=10))"
      ]
    },
    {
      "cell_type": "code",
      "execution_count": 53,
      "metadata": {},
      "outputs": [
        {
          "data": {
            "text/plain": [
              "{'move': (5, 3), 'value': 0}"
            ]
          },
          "metadata": {},
          "output_type": "display_data"
        },
        {
          "name": "stdout",
          "output_type": "stream",
          "text": [
            "CPU times: user 3.38 ms, sys: 1.42 ms, total: 4.8 ms\n",
            "Wall time: 3.83 ms\n"
          ]
        }
      ],
      "source": [
        "# 6x7 board\n",
        "board = [[0, 0, 0, 0, 0, 0, 0],\n",
        "         [0, 0, 0, 0, 0, 0, 0],\n",
        "         [0, 0, 0, 0, 0, 0, 0],\n",
        "         [0, 0, 0, 0, 0, 0, 0],\n",
        "         [0, 0, 0, 0, 0, 0, 0],\n",
        "         [0, 0, 0, 0, 0, 0, 0]]\n",
        "\n",
        "%time display(alpha_beta_search_cutoff_opening(board, cutoff=10))"
      ]
    },
    {
      "cell_type": "markdown",
      "metadata": {},
      "source": [
        "With the opening component of the algorithm, plus the cutoff depth, it takes almost no time at all to create the first move. "
      ]
    },
    {
      "cell_type": "markdown",
      "metadata": {
        "id": "05ZAgGPyTahg"
      },
      "source": [
        "### Playtime [5 points]\n",
        "\n",
        "Let two heuristic search agents (different cutoff depth, different heuristic evaluation function) compete against each other on a reasonably sized board. Since there is no randomness, you only need to let them play once."
      ]
    },
    {
      "cell_type": "code",
      "execution_count": 54,
      "metadata": {},
      "outputs": [],
      "source": [
        "def abc_player(board,player=1):\n",
        "    return list(alpha_beta_search_cutoff_opening(board, cutoff=8).values())[0]"
      ]
    },
    {
      "cell_type": "code",
      "execution_count": 55,
      "metadata": {
        "id": "SIx8c6O4Tahg"
      },
      "outputs": [
        {
          "data": {
            "text/plain": [
              "{'red': 1, 'yellow': 0, 'draw': 0}"
            ]
          },
          "metadata": {},
          "output_type": "display_data"
        },
        {
          "name": "stdout",
          "output_type": "stream",
          "text": [
            "CPU times: user 28 s, sys: 90.3 ms, total: 28.1 s\n",
            "Wall time: 28 s\n"
          ]
        }
      ],
      "source": [
        "%time display(play(abc_player, abc_player, N = 1))"
      ]
    },
    {
      "cell_type": "markdown",
      "metadata": {
        "id": "RONQx3flTahh"
      },
      "source": [
        "## Challenge task [+ 10 bonus point will be awarded separately]\n",
        "\n",
        "Find another student and let your best agent play against the other student's best player. We will set up a class tournament on Canvas. This tournament will continue after the submission deadline."
      ]
    },
    {
      "cell_type": "markdown",
      "metadata": {
        "id": "20ij1DUETahh"
      },
      "source": [
        "## Graduate student advanced task: Pure Monte Carlo Search and Best First Move [10 point]\n",
        "\n",
        "__Undergraduate students:__ This is a bonus task you can attempt if you like [+10 bonus point].\n",
        "\n",
        "### Pure Monte Carlo Search\n",
        "\n",
        "Implement Pure Monte Carlo Search and investigate how this search performs on the test boards that you have used above."
      ]
    },
    {
      "cell_type": "code",
      "execution_count": 56,
      "metadata": {
        "id": "T_OFDpmwTahh"
      },
      "outputs": [],
      "source": [
        "def playout(state, action, player = 1):\n",
        "    state = result(state, player, action)\n",
        "    current_player = other(player)\n",
        "    \n",
        "    while(True):\n",
        "        u = utility(state, player)\n",
        "        if u != None: return(u)\n",
        "        \n",
        "        idx = np.random.randint(len(actions(board)))\n",
        "        a = actions(board)[idx]\n",
        "        state = result(state, current_player, a)\n",
        "        \n",
        "        current_player = other(current_player)"
      ]
    },
    {
      "cell_type": "code",
      "execution_count": 57,
      "metadata": {},
      "outputs": [
        {
          "name": "stdout",
          "output_type": "stream",
          "text": [
            "Playout results: [-1, -1, 1, 1, -1, 1, 1, -1, -1, -1, 1, -1, 1, 1, -1, -1, 1, -1, 1, -1, -1, 1, 1, -1, 1, 1, -1, 1, 1, 1, -1, -1, -1, -1, 1, -1, -1, 1, -1, 1, -1, 1, 1, 1, 1, 1, 1, 1, 1, -1, 1, 1, -1, -1, 1, 1, -1, -1, 1, 1, -1, -1, 1, -1, -1, 1, 1, 1, -1, 1, -1, -1, 1, -1, -1, 1, -1, 1, 1, 1, -1, 1, 1, 1, 1, 1, 1, 1, -1, -1, 1, 1, 1, 1, -1, 1, 1, -1, -1, 1]\n",
            "mean utility: 0.14\n",
            "win probability: 0.57\n",
            "loss probability: 0.43\n",
            "draw probability: 0.0\n"
          ]
        }
      ],
      "source": [
        "def playouts(board, action, player = 1, N = 100):\n",
        "    \"\"\"Perform N playouts following the given action for the given board.\"\"\"\n",
        "    return [ playout(board, action, player) for i in range(N) ]\n",
        "\n",
        "board = [[0, 0, 0, 0, 0, 0, 0],\n",
        "         [0, 0, 0, 0, 0, 0, 0],\n",
        "         [0, 0, 0, 0, 0, 0, 0],\n",
        "         [0, 0, 0, 0, 0, 0, 0],\n",
        "         [0, 0, 0, 0, 0, 0, 0],\n",
        "         [0, 0, 0, 0, 0, 0, 0]]\n",
        "\n",
        "u = playouts(board, (5,3))\n",
        "print(\"Playout results:\", u)\n",
        "\n",
        "print(f\"mean utility: {np.mean(u)}\")\n",
        "\n",
        "p_win = sum(np.array(u) == +1)/len(u)\n",
        "p_loss = sum(np.array(u) == -1)/len(u)\n",
        "p_draw = sum(np.array(u) == 0)/len(u)\n",
        "print(f\"win probability: {p_win}\")\n",
        "print(f\"loss probability: {p_loss}\")\n",
        "print(f\"draw probability: {p_draw}\")"
      ]
    },
    {
      "cell_type": "code",
      "execution_count": 58,
      "metadata": {},
      "outputs": [],
      "source": [
        "def pmcs(board, N=100, player=1):\n",
        "    acts = actions(board)\n",
        "    n = math.floor(N/len(acts))\n",
        "    ps = { i : np.mean(playouts(board, i, player, N = n)) for i in acts }\n",
        "\n",
        "    action = max(ps, key=ps.get)\n",
        "    return action"
      ]
    },
    {
      "cell_type": "code",
      "execution_count": 59,
      "metadata": {},
      "outputs": [
        {
          "data": {
            "image/png": "[encoded data removed]",
            "text/plain": [
              "<Figure size 640x480 with 1 Axes>"
            ]
          },
          "metadata": {},
          "output_type": "display_data"
        },
        {
          "name": "stdout",
          "output_type": "stream",
          "text": [
            "(2, 3)\n",
            "CPU times: user 8.35 s, sys: 77.2 ms, total: 8.43 s\n",
            "Wall time: 7.95 s\n"
          ]
        }
      ],
      "source": [
        "# board 1\n",
        "board = [[0, 0, 0, 0, 0, 0, 0],\n",
        "         [0, 0, 0, 0, 0, 0, 0],\n",
        "         [0, 0, 0, 0, 0, 0, 0],\n",
        "         [0, 0, 0, 1, 0, 0, 0],\n",
        "         [0, 0, 0, 1, 0, 0, 0],\n",
        "         [0,-1,-1, 1,-1, 0, 0]]\n",
        "visualize(board)\n",
        "%time print(pmcs(board, N = 10000))"
      ]
    },
    {
      "cell_type": "code",
      "execution_count": 60,
      "metadata": {},
      "outputs": [
        {
          "data": {
            "image/png": "[encoded data removed]",
            "text/plain": [
              "<Figure size 640x480 with 1 Axes>"
            ]
          },
          "metadata": {},
          "output_type": "display_data"
        },
        {
          "name": "stdout",
          "output_type": "stream",
          "text": [
            "(2, 3)\n",
            "CPU times: user 10.1 s, sys: 322 ms, total: 10.4 s\n",
            "Wall time: 9.69 s\n"
          ]
        }
      ],
      "source": [
        "# board 2\n",
        "board = [[0, 0, 0, 0, 0, 0, 0],\n",
        "         [0, 0, 0, 0, 0, 0, 0],\n",
        "         [0, 0, 0, 0, 0, 0, 0],\n",
        "         [0, 0, 1,-1, 0, 0, 0],\n",
        "         [0, 0,-1,-1, 1, 0, 0],\n",
        "         [0, 1, 1, 1,-1, 0, 0]]\n",
        "visualize(board)\n",
        "%time print(pmcs(board, N = 10000))"
      ]
    },
    {
      "cell_type": "code",
      "execution_count": 61,
      "metadata": {},
      "outputs": [
        {
          "data": {
            "image/png": "[encoded data removed]",
            "text/plain": [
              "<Figure size 640x480 with 1 Axes>"
            ]
          },
          "metadata": {},
          "output_type": "display_data"
        },
        {
          "name": "stdout",
          "output_type": "stream",
          "text": [
            "(2, 6)\n",
            "CPU times: user 4.95 s, sys: 172 ms, total: 5.12 s\n",
            "Wall time: 4.57 s\n"
          ]
        }
      ],
      "source": [
        "# board 3\n",
        "board = [[0, 0, 0, 0, 0, 0, 0],\n",
        "         [0, 0, 0, 0, 0, 0, 0],\n",
        "         [0, 0, 0, 0, 0, 0, 0],\n",
        "         [0, 0, 0, 0,-1, 0, 1],\n",
        "         [0, 0, 0, 0,-1, 0, 1],\n",
        "         [0, 0, 0, 0,-1, 0, 1]]\n",
        "visualize(board)\n",
        "%time print(pmcs(board, N = 10000))"
      ]
    },
    {
      "cell_type": "code",
      "execution_count": 62,
      "metadata": {},
      "outputs": [
        {
          "data": {
            "image/png": "[encoded data removed]",
            "text/plain": [
              "<Figure size 640x480 with 1 Axes>"
            ]
          },
          "metadata": {},
          "output_type": "display_data"
        },
        {
          "name": "stdout",
          "output_type": "stream",
          "text": [
            "(3, 2)\n",
            "CPU times: user 5.98 s, sys: 210 ms, total: 6.19 s\n",
            "Wall time: 5.59 s\n"
          ]
        }
      ],
      "source": [
        "# board 4\n",
        "board = [[0, 0, 0, 0, 0, 0, 0],\n",
        "         [0, 0, 0, 0, 0, 0, 0],\n",
        "         [0, 0, 0, 0, 0, 0, 0],\n",
        "         [1,-1, 0, 0,-1, 1,-1],\n",
        "         [-1,1,-1, 1,-1, 1,-1],\n",
        "         [1,-1, 1,-1, 1,-1, 1]]\n",
        "visualize(board)\n",
        "%time print(pmcs(board, N = 10000))"
      ]
    },
    {
      "cell_type": "code",
      "execution_count": 63,
      "metadata": {},
      "outputs": [
        {
          "data": {
            "image/png": "[encoded data removed]",
            "text/plain": [
              "<Figure size 640x480 with 1 Axes>"
            ]
          },
          "metadata": {},
          "output_type": "display_data"
        },
        {
          "name": "stdout",
          "output_type": "stream",
          "text": [
            "(2, 3)\n",
            "CPU times: user 10.5 s, sys: 361 ms, total: 10.8 s\n",
            "Wall time: 10 s\n"
          ]
        }
      ],
      "source": [
        "# board 5\n",
        "board = [[0, 0, 0, 0, 0, 0, 0],\n",
        "         [0, 0, 0, 0, 0, 0, 0],\n",
        "         [0, 0, 1, 0, 0, 0, 0],\n",
        "         [0, 0,-1, 1,-1, 0, 0],\n",
        "         [0, 1,-1,-1, 1, 0, 0],\n",
        "         [1,-1, 1, 1,-1, 0, 0]]\n",
        "visualize(board)\n",
        "%time print(pmcs(board, N = 10000))"
      ]
    },
    {
      "cell_type": "markdown",
      "metadata": {
        "id": "lagrOxFZTahi"
      },
      "source": [
        "### Best First Move\n",
        "\n",
        "Use Pure Monte Carlo Search to determine what the best first move is? Describe under what assumptions this is the \"best\" first move.  "
      ]
    },
    {
      "cell_type": "code",
      "execution_count": 64,
      "metadata": {
        "id": "Zv8YtMt0Tahi"
      },
      "outputs": [
        {
          "name": "stdout",
          "output_type": "stream",
          "text": [
            "10000 playouts give a better utility estimate.\n",
            "(5, 3)\n",
            "CPU times: user 18.9 s, sys: 500 ms, total: 19.4 s\n",
            "Wall time: 19 s\n"
          ]
        }
      ],
      "source": [
        "print(\"10000 playouts give a better utility estimate.\")\n",
        "board = [[0, 0, 0, 0, 0, 0, 0],\n",
        "         [0, 0, 0, 0, 0, 0, 0],\n",
        "         [0, 0, 0, 0, 0, 0, 0],\n",
        "         [0, 0, 0, 0, 0, 0, 0],\n",
        "         [0, 0, 0, 0, 0, 0, 0],\n",
        "         [0, 0, 0, 0, 0, 0, 0]]\n",
        "%time print(pmcs(board, N = 10000))"
      ]
    },
    {
      "cell_type": "markdown",
      "metadata": {},
      "source": [
        "Pure Monte Carlo search determines that (5,3) is the best first move. This makes sense given there would be the most opportunities to connect pieces to (5,3) as it is in the middle"
      ]
    }
  ],
  "metadata": {
    "colab": {
      "provenance": []
    },
    "kernelspec": {
      "display_name": "Python 3 (ipykernel)",
      "language": "python",
      "name": "python3"
    },
    "language_info": {
      "codemirror_mode": {
        "name": "ipython",
        "version": 3
      },
      "file_extension": ".py",
      "mimetype": "text/x-python",
      "name": "python",
      "nbconvert_exporter": "python",
      "pygments_lexer": "ipython3",
      "version": "3.11.5"
    }
  },
  "nbformat": 4,
  "nbformat_minor": 0
}
