{
  "cells": [
    {
      "cell_type": "markdown",
      "metadata": {
        "id": "F68-l31lRsIs"
      },
      "source": [
        "# Solving the n-Queens Problem using Local Search\n",
        "\n",
        "Student Name: Cameron Ervin\n",
        "\n",
        "I have used the following AI tools: [list tools]\n",
        "\n",
        "I understand that my submission needs to be my own work: CE\n",
        "\n",
        "## Instructions\n",
        "\n",
        "Total Points: Undergrads 100 / Graduate students 110\n",
        "\n",
        "Complete this notebook. Use the provided notebook cells and insert additional code and markdown cells as needed. Submit the completely rendered notebook as a PDF file.\n"
      ]
    },
    {
      "cell_type": "markdown",
      "metadata": {
        "id": "AByx3RUhRsIv"
      },
      "source": [
        "## The n-Queens Problem\n",
        "\n",
        "* __Goal:__ Find an arrangement of $n$ queens on a $n \\times n$ chess board so that no queen is on the same row, column or diagonal as any other queen.\n",
        "\n",
        "* __State space:__ An arrangement of the queens on the board. We restrict the state space to arrangements where there is only a single queen per column. We represent a state as an integer vector $\\mathbf{q} = \\{q_1, q_2, \\dots, q_n\\}$, each number representing the row positions of the queens from left to right. We will call a state a \"board.\"\n",
        "\n",
        "* __Objective function:__ The number of pairwise conflicts (i.e., two queens in the same row/column/diagonal).\n",
        "The optimization problem is to find the optimal arrangement $\\mathbf{q}^*$ of $n$ queens on the board can be written as:\n",
        "\n",
        "  > minimize: $\\mathrm{conflicts}(\\mathbf{q})$\n",
        "  >\n",
        "  > subject to: $\\mathbf{q} \\ \\text{contains only one queen per column}$\n",
        "\n",
        "  Note: the constraint (subject to) is enforced by the definition of the state space.\n",
        "\n",
        "* __Local improvement move:__ Move one queen to a different row in its column.\n",
        "\n",
        "* __Termination:__ For this problem there is always an arrangement $\\mathbf{q}^*$ with $\\mathrm{conflicts}(\\mathbf{q}^*) = 0$, however, the local improvement moves might end up in a local minimum."
      ]
    },
    {
      "cell_type": "markdown",
      "metadata": {
        "id": "X3lBib0xRsIv"
      },
      "source": [
        "## Helper functions"
      ]
    },
    {
      "cell_type": "code",
      "execution_count": 1,
      "metadata": {
        "id": "dcKvkrgURsIw"
      },
      "outputs": [],
      "source": [
        "import numpy as np\n",
        "import matplotlib.pyplot as plt\n",
        "from matplotlib import colors\n",
        "import random\n",
        "import pandas as pd\n",
        "import math\n",
        "\n",
        "np.random.seed(1234)\n",
        "\n",
        "\n",
        "def random_board(n):\n",
        "    \"\"\"Creates a random board of size n x n. Note that only a single queen is placed in each column!\"\"\"\n",
        "\n",
        "    return(np.random.randint(0,n, size = n))\n",
        "\n",
        "def comb2(n): return n*(n-1)//2 # this is n choose 2 equivalent to math.comb(n, 2); // is int division\n",
        "\n",
        "def conflicts(board):\n",
        "    \"\"\"Calculate the number of conflicts, i.e., the objective function.\"\"\"\n",
        "\n",
        "    n = len(board)\n",
        "\n",
        "    horizontal_cnt = [0] * n\n",
        "    diagonal1_cnt = [0] * 2 * n\n",
        "    diagonal2_cnt = [0] * 2 * n\n",
        "\n",
        "    for i in range(n):\n",
        "        horizontal_cnt[board[i]] += 1\n",
        "        diagonal1_cnt[i + board[i]] += 1\n",
        "        diagonal2_cnt[i - board[i] + n] += 1\n",
        "\n",
        "    return sum(map(comb2, horizontal_cnt + diagonal1_cnt + diagonal2_cnt))\n",
        "\n",
        "# decrease the fontsize to fit larger boards\n",
        "def show_board(board, cols = ['white', 'gray'], fontsize = 48):\n",
        "    \"\"\"display the board\"\"\"\n",
        "\n",
        "    n = len(board)\n",
        "\n",
        "    # create chess board display\n",
        "    display = np.zeros([n,n])\n",
        "    for i in range(n):\n",
        "        for j in range(n):\n",
        "            if (((i+j) % 2) != 0):\n",
        "                display[i,j] = 1\n",
        "\n",
        "    cmap = colors.ListedColormap(cols)\n",
        "    fig, ax = plt.subplots()\n",
        "    ax.imshow(display, cmap = cmap,\n",
        "              norm = colors.BoundaryNorm(range(len(cols)+1), cmap.N))\n",
        "    ax.set_xticks([])\n",
        "    ax.set_yticks([])\n",
        "\n",
        "    # place queens. Note: Unicode u265B is a black queen\n",
        "    for j in range(n):\n",
        "        plt.text(j, board[j], u\"\\u265B\", fontsize = fontsize,\n",
        "                 horizontalalignment = 'center',\n",
        "                 verticalalignment = 'center')\n",
        "\n",
        "    print(f\"Board with {conflicts(board)} conflicts.\")\n",
        "    plt.show()"
      ]
    },
    {
      "cell_type": "markdown",
      "metadata": {
        "id": "9VSy7XovRsIx"
      },
      "source": [
        "## Create a board"
      ]
    },
    {
      "cell_type": "code",
      "execution_count": 2,
      "metadata": {
        "id": "-3brOfA4RsIx",
        "outputId": "4fbf4510-5347-4bcf-c43d-71fdd4f70cb9"
      },
      "outputs": [
        {
          "name": "stdout",
          "output_type": "stream",
          "text": [
            "Board with 4 conflicts.\n"
          ]
        },
        {
          "data": {
            "image/png": "[encoded data removed]",
            "text/plain": [
              "<Figure size 640x480 with 1 Axes>"
            ]
          },
          "metadata": {},
          "output_type": "display_data"
        },
        {
          "name": "stdout",
          "output_type": "stream",
          "text": [
            "Queens (left to right) are at rows: [3 3 2 1]\n",
            "Number of conflicts: 4\n"
          ]
        }
      ],
      "source": [
        "board = random_board(4)\n",
        "\n",
        "show_board(board)\n",
        "print(f\"Queens (left to right) are at rows: {board}\")\n",
        "print(f\"Number of conflicts: {conflicts(board)}\")"
      ]
    },
    {
      "cell_type": "markdown",
      "metadata": {
        "id": "nSewQxEWRsIy"
      },
      "source": [
        "A board $4 \\times 4$ with no conflicts:"
      ]
    },
    {
      "cell_type": "code",
      "execution_count": 3,
      "metadata": {
        "id": "HtKuD1twRsIy",
        "outputId": "e9f4588f-7912-48f1-8e9e-9daaa19e8ff8"
      },
      "outputs": [
        {
          "name": "stdout",
          "output_type": "stream",
          "text": [
            "Board with 0 conflicts.\n"
          ]
        },
        {
          "data": {
            "image/png": "[encoded data removed]",
            "text/plain": [
              "<Figure size 640x480 with 1 Axes>"
            ]
          },
          "metadata": {},
          "output_type": "display_data"
        }
      ],
      "source": [
        "board = [1,3,0,2]\n",
        "show_board(board)"
      ]
    },
    {
      "cell_type": "markdown",
      "metadata": {
        "id": "iqG7y6hXRsIy"
      },
      "source": [
        "# Tasks\n",
        "\n",
        "## General [10 Points]\n",
        "\n",
        "1. Make sure that you use the latest version of this notebook. Sync your forked repository and pull the latest revision.\n",
        "2. Your implementation can use libraries like math, numpy, scipy, but not libraries that implement intelligent agents or complete search algorithms. Try to keep the code simple! In this course, we want to learn about the algorithms and we often do not need to use object-oriented design.\n",
        "3. You notebook needs to be formatted professionally.\n",
        "    - Add additional markdown blocks for your description, comments in the code, add tables and use mathplotlib to produce charts where appropriate\n",
        "    - Do not show debugging output or include an excessive amount of output.\n",
        "    - Check that your PDF file is readable. For example, long lines are cut off in the PDF file. You don't have control over page breaks, so do not worry about these.\n",
        "4. Document your code. Add a short discussion of how your implementation works and your design choices."
      ]
    },
    {
      "cell_type": "markdown",
      "metadata": {
        "id": "3GdrUVvLRsIy"
      },
      "source": [
        "## Task 1: Steepest-ascend Hill Climbing Search [30 Points]\n",
        "\n",
        "Calculate the objective function for all local moves (see definition of local moves above) and always choose the best among all local moves. If there are no local moves that improve the objective, then you have reached a local optimum."
      ]
    },
    {
      "cell_type": "code",
      "execution_count": 4,
      "metadata": {
        "id": "sgbONL7jRsIy"
      },
      "outputs": [],
      "source": [
        "def steepest(board, verb = True):\n",
        "    # create copy of board\n",
        "    bc = np.copy(board)\n",
        "\n",
        "    # while sol is true loop\n",
        "    sol = True\n",
        "    opt = False\n",
        "    while sol:\n",
        "        # create dict of neighbors with conflicts as key\n",
        "        nbr_dict = {}\n",
        "        # create copy of board as neighbor board\n",
        "        nbr = np.copy(bc)\n",
        "\n",
        "        # nested for loop to loop through each column and row\n",
        "        for i in range(len(bc)):\n",
        "            for j in range(len(bc)):\n",
        "                # change col i to value j\n",
        "                nbr[i] = j\n",
        "                # if conflicts less than board copy add to dict\n",
        "                if conflicts(nbr) <= conflicts(bc):\n",
        "                    nbr_dict[conflicts(nbr)] = nbr\n",
        "                # reestablish neighbor board to have same starting point\n",
        "                nbr = np.copy(bc)\n",
        "        # if local min found, stop\n",
        "        if conflicts(bc) == min(nbr_dict.keys()):\n",
        "            if verb:\n",
        "                print('local optimum found, global optimum not found')\n",
        "            sol = False\n",
        "        # board copy is the neighbor with the lowest conflicts\n",
        "        bc = nbr_dict[min(nbr_dict.keys())]\n",
        "        # if conflicts is zero, global optimum found, stop\n",
        "        if conflicts(bc) == 0:\n",
        "            if verb:\n",
        "                print('global/local optimum found')\n",
        "            opt = True\n",
        "            sol = False\n",
        "    return [opt,bc]"
      ]
    },
    {
      "cell_type": "code",
      "execution_count": 5,
      "metadata": {},
      "outputs": [
        {
          "name": "stdout",
          "output_type": "stream",
          "text": [
            "global/local optimum found\n"
          ]
        },
        {
          "data": {
            "text/plain": [
              "[True, array([2, 0, 3, 1])]"
            ]
          },
          "execution_count": 5,
          "metadata": {},
          "output_type": "execute_result"
        }
      ],
      "source": [
        "board = random_board(4)\n",
        "steepest(board)"
      ]
    },
    {
      "cell_type": "markdown",
      "metadata": {
        "id": "-oB7G2lvRsIz"
      },
      "source": [
        "## Task 2: Stochastic Hill Climbing 1 [10 Points]\n",
        "\n",
        "Chooses randomly from among all uphill moves till you have reached a local optimum."
      ]
    },
    {
      "cell_type": "code",
      "execution_count": 6,
      "metadata": {
        "id": "Kk5RZiw0RsIz"
      },
      "outputs": [],
      "source": [
        "def stochastic(board, verb = True):\n",
        "    bc = np.copy(board)\n",
        "    sol = True\n",
        "    opt = False\n",
        "    while sol:\n",
        "        nbr_dict = {}\n",
        "        nbr = np.copy(bc)\n",
        "        for i in range(len(bc)):\n",
        "            for j in range(len(bc)):\n",
        "                nbr[i] = j\n",
        "                if conflicts(nbr) <= conflicts(bc):\n",
        "                    nbr_dict[conflicts(nbr)] = nbr\n",
        "                nbr = np.copy(bc)\n",
        "        if conflicts(bc) == min(nbr_dict.keys()):\n",
        "            if verb:\n",
        "                print('local optimum found, global optimum not found')\n",
        "            sol = False\n",
        "        # choose next board randomly from dict of neighbors\n",
        "        bc = nbr_dict[random.choice(list(nbr_dict.keys()))]\n",
        "        if conflicts(bc) == 0:\n",
        "            if verb:\n",
        "                print('global/local optimum found')\n",
        "            opt = True\n",
        "            sol = False\n",
        "    return [opt,bc]"
      ]
    },
    {
      "cell_type": "code",
      "execution_count": 7,
      "metadata": {},
      "outputs": [
        {
          "name": "stdout",
          "output_type": "stream",
          "text": [
            "global/local optimum found\n"
          ]
        },
        {
          "data": {
            "text/plain": [
              "[True, array([2, 0, 3, 1])]"
            ]
          },
          "execution_count": 7,
          "metadata": {},
          "output_type": "execute_result"
        }
      ],
      "source": [
        "board = random_board(4)\n",
        "stochastic(board)"
      ]
    },
    {
      "cell_type": "markdown",
      "metadata": {
        "id": "cw7NSMRoRsIz"
      },
      "source": [
        "## Task 3: Stochastic Hill Climbing 2 [20 Points]\n",
        "\n",
        "A popular version of stochastic hill climbing generates only a single random local neighbor at a time and accept it if it has a better objective function value than the current state. This is very efficient if each state has many possible successor states. This method is called \"First-choice hill climbing\" in the textbook.\n",
        "\n",
        "__Notes:__\n",
        "\n",
        "* Detecting local optima is tricky! You can, for example, stop if you were not able to improve the objective function during the last $x$ tries."
      ]
    },
    {
      "cell_type": "code",
      "execution_count": 81,
      "metadata": {
        "id": "HvxoJynKRsIz"
      },
      "outputs": [],
      "source": [
        "def first_choice(board, verb = True, tries = 50):\n",
        "    bc = np.copy(board)\n",
        "    sol = True\n",
        "    opt = False\n",
        "    n = 0\n",
        "    while sol:\n",
        "        nbr = np.copy(bc)\n",
        "        length = [i for i in range(len(bc))]\n",
        "        # randomly shuffle rows and columns\n",
        "        random.shuffle(length)\n",
        "        for i in length:\n",
        "            find = False\n",
        "            random.shuffle(length)\n",
        "            for j in length:\n",
        "                nbr[i] = j\n",
        "                # if first choice has less conflicts than current board, board copy is first choice\n",
        "                if conflicts(nbr) < conflicts(bc):\n",
        "                    n = 0\n",
        "                    bc = np.copy(nbr)\n",
        "                    find = True\n",
        "                    break\n",
        "                # if conflicts of neighbor are greater than or equal to current board add one to n, if n is more than tries, found local optimum\n",
        "                elif conflicts(nbr) >= conflicts(bc):\n",
        "                    n += 1\n",
        "                    if n >= tries:\n",
        "                        find = True\n",
        "                        break\n",
        "                nbr = np.copy(bc)\n",
        "            if find:\n",
        "                break\n",
        "\n",
        "        if n >= tries:         \n",
        "            if verb:\n",
        "                print('local optimum found, global optimum not found')\n",
        "            sol = False\n",
        "\n",
        "        if conflicts(bc) == 0:\n",
        "            if verb:\n",
        "                print('global/local optimum found')\n",
        "            opt = True\n",
        "            sol = False\n",
        "    return [opt,bc]\n"
      ]
    },
    {
      "cell_type": "code",
      "execution_count": 107,
      "metadata": {},
      "outputs": [
        {
          "name": "stdout",
          "output_type": "stream",
          "text": [
            "local optimum found, global optimum not found\n"
          ]
        },
        {
          "data": {
            "text/plain": [
              "[False, array([0, 2, 3, 1])]"
            ]
          },
          "execution_count": 107,
          "metadata": {},
          "output_type": "execute_result"
        }
      ],
      "source": [
        "board = random_board(4)\n",
        "first_choice(board)\n"
      ]
    },
    {
      "cell_type": "code",
      "execution_count": 66,
      "metadata": {},
      "outputs": [
        {
          "name": "stdout",
          "output_type": "stream",
          "text": [
            "local optimum found, global optimum not found\n"
          ]
        },
        {
          "data": {
            "text/plain": [
              "[False, array([3, 5, 0, 7, 7, 5, 6, 2])]"
            ]
          },
          "execution_count": 66,
          "metadata": {},
          "output_type": "execute_result"
        }
      ],
      "source": [
        "board = random_board(8)\n",
        "first_choice(board)"
      ]
    },
    {
      "cell_type": "markdown",
      "metadata": {
        "id": "CymLBKt-RsIz"
      },
      "source": [
        "## Task 4: Hill Climbing Search with Random Restarts [10 Points]\n",
        "\n",
        "Hill climbing will often end up in local optima. Restart the each of the three hill climbing algorithm up to 100 times with a random board to find a better (hopefully optimal) solution. Note that restart just means to run the algorithm several times starting with a new random board."
      ]
    },
    {
      "cell_type": "code",
      "execution_count": 372,
      "metadata": {},
      "outputs": [],
      "source": [
        "def random_restart(board, alg = steepest, verb = False, tries = 5, p = False):\n",
        "    bc = np.copy(board)\n",
        "    board_len = len(board)\n",
        "    sol = False\n",
        "    \n",
        "    if alg != first_choice:\n",
        "        # first argument returned from funnction is boolean for T/F\n",
        "        opt = alg(bc,verb)[0]\n",
        "        current_bc = alg(bc,verb)[1]\n",
        "        # if found optimum solution, return solution\n",
        "        if opt == True:\n",
        "            if p:\n",
        "                print('global/local optimum found')\n",
        "            return [opt,current_bc]\n",
        "        # else, create new random state and call function again\n",
        "        else:\n",
        "            # try 100 times to find an optimum solution\n",
        "            for i in range(100):\n",
        "                bc = np.copy(random_board(board_len))\n",
        "                opt = alg(bc,verb)[0]\n",
        "                current_bc = alg(bc,verb)[1]\n",
        "                if opt == False:\n",
        "                    continue\n",
        "                elif opt == True:\n",
        "                    sol = True\n",
        "                    if p:\n",
        "                        print('global/local optimum found')\n",
        "                    return [opt,current_bc]\n",
        "    # parameters for first_choice is different, so have different call to function\n",
        "    else:\n",
        "        opt = alg(bc,verb, tries)[0]\n",
        "        current_bc = alg(bc,verb, tries)[1]\n",
        "        if opt == True:\n",
        "            if p:\n",
        "                print('global/local optimum found')\n",
        "            return [opt,current_bc]\n",
        "        else:\n",
        "            for i in range(100):\n",
        "                bc = np.copy(random_board(board_len))\n",
        "                opt = alg(bc,verb,tries)[0]\n",
        "                current_bc = alg(bc,verb,tries)[1]\n",
        "                if opt == False:\n",
        "                    continue\n",
        "                elif opt == True:\n",
        "                    sol = True\n",
        "                    if p:\n",
        "                        print('global/local optimum found')\n",
        "                    return [opt,current_bc]\n",
        "    # if optimum solution not found, sol = false and return local optimum solution\n",
        "    if sol == False:\n",
        "        if p:\n",
        "            print('local optimum found, global optimum not found')\n",
        "        return [opt,bc]\n"
      ]
    },
    {
      "cell_type": "code",
      "execution_count": 12,
      "metadata": {},
      "outputs": [
        {
          "name": "stdout",
          "output_type": "stream",
          "text": [
            "global/local optimum found\n"
          ]
        },
        {
          "data": {
            "text/plain": [
              "[True, array([0, 3, 0, 2])]"
            ]
          },
          "execution_count": 12,
          "metadata": {},
          "output_type": "execute_result"
        }
      ],
      "source": [
        "board = random_board(4)\n",
        "random_restart(board, alg=first_choice)"
      ]
    },
    {
      "cell_type": "markdown",
      "metadata": {
        "id": "o__jVlZhRsI0"
      },
      "source": [
        "## Task 5: Simulated Annealing [10 Points]\n",
        "\n",
        "Simulated annealing is a form of stochastic hill climbing that avoid local optima by also allowing downhill moves with a probability proportional to a temperature. The temperature is decreased in every iteration following an annealing schedule. You have to experiment with the annealing schedule (Google to find guidance on this).\n",
        "\n",
        "\n",
        "1. Implement simulated annealing for the n-Queens problem.\n",
        "2. Compare the performance with the previous algorithms.\n",
        "2. Discuss your choice of annealing schedule."
      ]
    },
    {
      "cell_type": "code",
      "execution_count": 13,
      "metadata": {},
      "outputs": [],
      "source": [
        "def classic(t0,t):\n",
        "    return t0*(1/math.log(1+t))"
      ]
    },
    {
      "cell_type": "code",
      "execution_count": 14,
      "metadata": {},
      "outputs": [],
      "source": [
        "def fast(t0,t):\n",
        "    return t0*(1/(1+t))"
      ]
    },
    {
      "cell_type": "code",
      "execution_count": 304,
      "metadata": {},
      "outputs": [],
      "source": [
        "def exponential(t0,t,a):\n",
        "    if a < 0.8 or a > 1:\n",
        "        print('Improper a parameter. a must be between 0.8 and 1')\n",
        "        return\n",
        "    return t0*(a**(t))"
      ]
    },
    {
      "cell_type": "code",
      "execution_count": 404,
      "metadata": {},
      "outputs": [],
      "source": [
        "def simulated_annealing(board, t0 = 20 , a = 0.99, ep = 0.01, schedule = exponential, verb = False):\n",
        "    bc = np.copy(board)\n",
        "    opt = False\n",
        "    t = 1\n",
        "\n",
        "    while t < math.inf:\n",
        "        # call schedule function\n",
        "        if schedule != exponential:\n",
        "            T = schedule(t0,t)\n",
        "        # exponential schedule is different\n",
        "        else:\n",
        "            T = schedule(t0,t,a)\n",
        "\n",
        "        # loop until T is less than epsilon parameter\n",
        "        if T < ep:\n",
        "            if conflicts(bc) == 0:\n",
        "                if verb:\n",
        "                    print('global/local optimum found')\n",
        "                opt = True\n",
        "                return [opt,bc]\n",
        "            if verb:\n",
        "                print('local optimum found, global optimum not found')\n",
        "            return [opt,bc]\n",
        "        nbr_dict = {}\n",
        "        nbr = np.copy(bc)\n",
        "        for i in range(len(bc)):\n",
        "            for j in range(len(bc)):\n",
        "                nbr[i] = j\n",
        "                nbr_dict[conflicts(nbr)] = nbr\n",
        "                nbr = np.copy(bc)\n",
        "        # randomly select successor of current\n",
        "        next = nbr_dict[random.choice(list(nbr_dict.keys()))]\n",
        "\n",
        "        # e is difference in conflicts\n",
        "        e = conflicts(bc) - conflicts(next)\n",
        "        # if e is greater thanb 0, take\n",
        "        if e > 0: \n",
        "            bc = np.copy(next)\n",
        "        # else, there is chance to take given cooling schedule\n",
        "        else: \n",
        "            prob = random.random()\n",
        "            if prob <= math.exp(e/T):\n",
        "                bc = np.copy(next)\n",
        "        t+=1"
      ]
    },
    {
      "cell_type": "code",
      "execution_count": 302,
      "metadata": {},
      "outputs": [
        {
          "name": "stdout",
          "output_type": "stream",
          "text": [
            "local optimum found, global optimum not found\n"
          ]
        },
        {
          "data": {
            "text/plain": [
              "[False, array([2, 0, 1, 3])]"
            ]
          },
          "execution_count": 302,
          "metadata": {},
          "output_type": "execute_result"
        }
      ],
      "source": [
        "board = random_board(4)\n",
        "simulated_annealing(board)"
      ]
    },
    {
      "cell_type": "code",
      "execution_count": 324,
      "metadata": {},
      "outputs": [
        {
          "name": "stdout",
          "output_type": "stream",
          "text": [
            "global/local optimum found\n"
          ]
        },
        {
          "data": {
            "text/plain": [
              "[True, array([1, 3, 0, 2])]"
            ]
          },
          "execution_count": 324,
          "metadata": {},
          "output_type": "execute_result"
        }
      ],
      "source": [
        "board = random_board(4)\n",
        "simulated_annealing(board, schedule = fast)"
      ]
    },
    {
      "cell_type": "code",
      "execution_count": 314,
      "metadata": {},
      "outputs": [
        {
          "name": "stdout",
          "output_type": "stream",
          "text": [
            "global/local optimum found\n"
          ]
        },
        {
          "data": {
            "text/plain": [
              "[True, array([2, 0, 3, 1])]"
            ]
          },
          "execution_count": 314,
          "metadata": {},
          "output_type": "execute_result"
        }
      ],
      "source": [
        "board = random_board(4)\n",
        "simulated_annealing(board, schedule = exponential)"
      ]
    },
    {
      "cell_type": "code",
      "execution_count": 344,
      "metadata": {},
      "outputs": [],
      "source": [
        "import timeit\n",
        "\n",
        "# parameter tuning for schedule type\n",
        "N = 100\n",
        "classic_4 = timeit.timeit('simulated_annealing(random_board(4), schedule=classic, verb=False)', number = N, globals = globals())\n",
        "avg_classic_4 = (classic_4/N*1e3)\n",
        "\n",
        "fast_4 = timeit.timeit('simulated_annealing(random_board(4), schedule=fast, verb=False)', number = N, globals = globals())\n",
        "avg_fast_4 = (fast_4/N*1e3)\n",
        "\n",
        "exponential_4 = timeit.timeit('simulated_annealing(random_board(4), schedule=exponential, verb=False)', number = N, globals = globals())\n",
        "avg_exponential_4 = (exponential_4/N*1e3)\n"
      ]
    },
    {
      "cell_type": "code",
      "execution_count": 346,
      "metadata": {},
      "outputs": [
        {
          "name": "stdout",
          "output_type": "stream",
          "text": [
            "Schedule <function classic at 0x7fb318fd4940> has a runtime of 3189.51132582999\n",
            "Schedule <function fast at 0x7fb318fd4c10> has a runtime of 1.3164920800045365\n",
            "Schedule <function exponential at 0x7fb308487160> has a runtime of 3.0557874999794876\n"
          ]
        }
      ],
      "source": [
        "schedules = [classic, fast, exponential]\n",
        "times = [avg_classic_4, avg_fast_4, avg_exponential_4]\n",
        "\n",
        "idx = -1\n",
        "# fast has the fastest runtime of 1.3 ms followed by exponential at 3.06 ms\n",
        "for schedule in schedules:\n",
        "    idx += 1\n",
        "    print(f'Schedule {schedule} has a runtime of {times[idx]}')"
      ]
    },
    {
      "cell_type": "code",
      "execution_count": 343,
      "metadata": {},
      "outputs": [
        {
          "name": "stdout",
          "output_type": "stream",
          "text": [
            "Schedule <function classic at 0x7fb318fd4940> has an accuracy of 0.32\n",
            "Schedule <function fast at 0x7fb318fd4c10> has an accuracy of 0.13\n",
            "Schedule <function exponential at 0x7fb308487160> has an accuracy of 0.31\n"
          ]
        }
      ],
      "source": [
        "schedules = [classic, fast, exponential]\n",
        "schedules_acc = [0,0,0]\n",
        "N = 100\n",
        "idx = -1\n",
        "\n",
        "for schedule in schedules:\n",
        "    idx += 1\n",
        "    for i in range(N):\n",
        "        if simulated_annealing(random_board(4), schedule=schedule, verb=False)[0] == True:\n",
        "            schedules_acc[idx] += 1\n",
        "\n",
        "for i in range(3):\n",
        "    schedules_acc[i] = schedules_acc[i]/N\n",
        "\n",
        "# exponential and classic have the highest accuracies of about 31-32%\n",
        "# choose to use exponential for a balance of accuracy and low runtime\n",
        "idx = -1\n",
        "for schedule in schedules:\n",
        "    idx += 1\n",
        "    print(f'Schedule {schedule} has an accuracy of {schedules_acc[idx]}')"
      ]
    },
    {
      "cell_type": "code",
      "execution_count": 354,
      "metadata": {},
      "outputs": [
        {
          "data": {
            "text/plain": [
              "[0.016, 0.306, 0.292, 0.288, 0.312, 0.394, 0.42, 0.438, 0.418]"
            ]
          },
          "execution_count": 354,
          "metadata": {},
          "output_type": "execute_result"
        }
      ],
      "source": [
        "# parameter tuning for t0\n",
        "\n",
        "t = [0.001, 0.05, 0.1, 0.5, 1, 5, 10, 20, 50]\n",
        "t_acc = [0,0,0,0,0,0,0,0,0]\n",
        "N = 500\n",
        "idx = -1\n",
        "\n",
        "for t0 in t:\n",
        "    idx += 1\n",
        "    for i in range(N):\n",
        "        if simulated_annealing(random_board(4), t0=t0, schedule=exponential, verb=False)[0] == 1:\n",
        "            t_acc[idx] += 1\n",
        "\n",
        "for i in range(9):\n",
        "    t_acc[i] = t_acc[i]/N\n",
        "\n",
        "# using a t0 of 20 has the highest accuracy\n",
        "t_acc"
      ]
    },
    {
      "cell_type": "code",
      "execution_count": 356,
      "metadata": {},
      "outputs": [
        {
          "data": {
            "text/plain": [
              "[0.424, 0.432, 0.402, 0.284]"
            ]
          },
          "execution_count": 356,
          "metadata": {},
          "output_type": "execute_result"
        }
      ],
      "source": [
        "# parameter tuning for ep\n",
        "ep = [0.001, 0.01, 0.1, 0.5]\n",
        "ep_acc = [0,0,0,0]\n",
        "N = 500\n",
        "idx = -1\n",
        "\n",
        "for e in ep:\n",
        "    idx += 1\n",
        "    for i in range(N):\n",
        "        if simulated_annealing(random_board(4), t0=20, ep=e, schedule=exponential, verb=False)[0] == 1:\n",
        "            ep_acc[idx] += 1\n",
        "\n",
        "for i in range(4):\n",
        "    ep_acc[i] = ep_acc[i]/N\n",
        "\n",
        "# 0.01 has the highest accuracy\n",
        "ep_acc"
      ]
    },
    {
      "cell_type": "code",
      "execution_count": 361,
      "metadata": {},
      "outputs": [
        {
          "data": {
            "text/plain": [
              "[0.342, 0.428, 0.744]"
            ]
          },
          "execution_count": 361,
          "metadata": {},
          "output_type": "execute_result"
        }
      ],
      "source": [
        "# parameter tuning for a since we chose exponential\n",
        "a = [0.8,0.9,.99]\n",
        "a_acc = [0,0,0]\n",
        "N = 500\n",
        "idx = -1\n",
        "\n",
        "for _a in a:\n",
        "    idx += 1\n",
        "    for i in range(N):\n",
        "        if simulated_annealing(random_board(4), t0=20, a=_a, ep=0.01, schedule=exponential, verb=False)[0] == 1:\n",
        "            a_acc[idx] += 1\n",
        "\n",
        "for i in range(3):\n",
        "    a_acc[i] = a_acc[i]/N\n",
        "\n",
        "# 0.99 has the highest accuracy\n",
        "a_acc"
      ]
    },
    {
      "cell_type": "markdown",
      "metadata": {},
      "source": [
        "I chose to use the following parameters for my simulated annealing algorithm: \n",
        "\n",
        "t0 = 0.01\n",
        "\n",
        "a = 0.99\n",
        "\n",
        "ep = 0.01\n",
        "\n",
        "schedule = exponential\n",
        "\n",
        "I chose these parameters because they offer the highest accuracy from the simulated algorithm in a low runtime compared to the classic scheduling algorithm."
      ]
    },
    {
      "cell_type": "markdown",
      "metadata": {
        "id": "JmvhRUd0RsI0"
      },
      "source": [
        "## Task 6: Compare Performance [10 Points]\n",
        "\n",
        "Use runtime and objective function value to compare the algorithms.\n",
        "\n",
        "* Use boards of different sizes to explore how the different algorithms perform. Make sure that you run the algorithms for each board size several times (at least 10 times) with different starting boards and report averages.\n",
        "\n",
        "* How do the algorithms scale with problem size? Use tables and charts.\n",
        "\n",
        "* What is the largest board each algorithm can solve in a reasonable amount time?\n",
        "\n",
        "See [Profiling Python Code](../HOWTOs/profiling_code.ipynb) for help about how to measure runtime in Python."
      ]
    },
    {
      "cell_type": "code",
      "execution_count": 405,
      "metadata": {
        "id": "zRKDQnFORsI0"
      },
      "outputs": [],
      "source": [
        "import timeit\n",
        "\n",
        "# find average runtimes for algorithms, first non random restart and then for random restart, board size = 4\n",
        "N = 100\n",
        "steep_4 = timeit.timeit('steepest(random_board(4), verb = False)', number = N, globals = globals())\n",
        "avg_steep_4 = (steep_4/N*1e3)\n",
        "\n",
        "stoch_4 = timeit.timeit('stochastic(random_board(4), verb = False)', number = N, globals = globals())\n",
        "avg_stoch_4 = (stoch_4/N*1e3)\n",
        "\n",
        "fc_4 = timeit.timeit('first_choice(random_board(4), verb = False)', number = N, globals = globals())\n",
        "avg_fc_4 = (fc_4/N*1e3)\n",
        "\n",
        "sima_4 = timeit.timeit('simulated_annealing(random_board(4), verb = False)', number = N, globals = globals())\n",
        "avg_sima_4 = (sima_4/N*1e3)\n",
        "\n",
        "rr_steep_4 = timeit.timeit('random_restart(random_board(4), alg = steepest, verb = False, p = False)', number = N, globals = globals())\n",
        "avg_rr_steep_4 = (rr_steep_4/N*1e3)\n",
        "\n",
        "rr_stoch_4 = timeit.timeit('random_restart(random_board(4), alg = stochastic, verb = False, p = False)', number = N, globals = globals())\n",
        "avg_rr_stoch_4 = (rr_stoch_4/N*1e3)\n",
        "\n",
        "rr_fc_4 = timeit.timeit('random_restart(random_board(4), alg = first_choice, verb = False, p = False)', number = N, globals = globals())\n",
        "avg_rr_fc_4 = (rr_fc_4/N*1e3)\n",
        "\n",
        "rr_sima_4 = timeit.timeit('random_restart(random_board(4), alg = simulated_annealing, verb = False, p = False)', number = N, globals = globals())\n",
        "avg_rr_sima_4 = (rr_sima_4/N*1e3)"
      ]
    },
    {
      "cell_type": "code",
      "execution_count": 406,
      "metadata": {},
      "outputs": [],
      "source": [
        "# find average runtimes for algorithms, first non random restart and then for random restart, board size = 8\n",
        "steep_8 = timeit.timeit('steepest(random_board(8), verb = False)', number = N, globals = globals())\n",
        "avg_steep_8 = (steep_8/N*1e3)\n",
        "\n",
        "stoch_8 = timeit.timeit('stochastic(random_board(8), verb = False)', number = N, globals = globals())\n",
        "avg_stoch_8 = (stoch_8/N*1e3)\n",
        "\n",
        "fc_8 = timeit.timeit('first_choice(random_board(8), verb = False)', number = N, globals = globals())\n",
        "avg_fc_8 = (fc_8/N*1e3)\n",
        "\n",
        "sima_8 = timeit.timeit('simulated_annealing(random_board(8), verb = False)', number = N, globals = globals())\n",
        "avg_sima_8 = (sima_8/N*1e3)\n",
        "\n",
        "rr_steep_8 = timeit.timeit('random_restart(random_board(8), alg = steepest, verb = False, p = False)', number = N, globals = globals())\n",
        "avg_rr_steep_8 = (rr_steep_8/N*1e3)\n",
        "\n",
        "rr_stoch_8 = timeit.timeit('random_restart(random_board(8), alg = stochastic, verb = False, p = False)', number = N, globals = globals())\n",
        "avg_rr_stoch_8 = (rr_stoch_8/N*1e3)\n",
        "\n",
        "rr_fc_8 = timeit.timeit('random_restart(random_board(8), alg = first_choice, verb = False, p = False)', number = N, globals = globals())\n",
        "avg_rr_fc_8 = (rr_fc_8/N*1e3)\n",
        "\n",
        "rr_sima_8 = timeit.timeit('random_restart(random_board(8), alg = simulated_annealing, verb = False, p = False)', number = N, globals = globals())\n",
        "avg_rr_sima_8 = (rr_sima_8/N*1e3)"
      ]
    },
    {
      "cell_type": "code",
      "execution_count": 407,
      "metadata": {},
      "outputs": [],
      "source": [
        "# find accuracy for non RR algorithms board size 4\n",
        "algs = [steepest, stochastic, first_choice, simulated_annealing]\n",
        "algs_4 = [0,0,0,0]\n",
        "idx = -1\n",
        "\n",
        "for alg in algs:\n",
        "    idx += 1\n",
        "    for i in range(N):\n",
        "        if alg(random_board(4), verb = False)[0] == True:\n",
        "            algs_4[idx] += 1\n",
        "\n",
        "for i in range(4):\n",
        "    algs_4[i] = algs_4[i]/N"
      ]
    },
    {
      "cell_type": "code",
      "execution_count": 408,
      "metadata": {},
      "outputs": [],
      "source": [
        "# find accuracy for RR algorithms board size 4\n",
        "algs = [steepest, stochastic, first_choice, simulated_annealing]\n",
        "algs_rr_4 = [0,0,0,0]\n",
        "idx = -1\n",
        "\n",
        "for alg in algs:\n",
        "    idx +=1\n",
        "    for i in range(N):\n",
        "        if random_restart(random_board(4), alg=alg, verb = False, p = False)[0] == True:\n",
        "            algs_rr_4[idx] += 1\n",
        "\n",
        "for i in range(4):\n",
        "    algs_rr_4[i] = algs_rr_4[i]/N"
      ]
    },
    {
      "cell_type": "code",
      "execution_count": 409,
      "metadata": {},
      "outputs": [],
      "source": [
        "# find accuracy for non RR algorithms board size 8\n",
        "algs = [steepest, stochastic, first_choice, simulated_annealing]\n",
        "algs_8 = [0,0,0,0]\n",
        "idx = -1\n",
        "\n",
        "for alg in algs:\n",
        "    idx += 1\n",
        "    for i in range(N):\n",
        "        if alg(random_board(8), verb = False)[0] == True:\n",
        "            algs_8[idx] += 1\n",
        "\n",
        "for i in range(4):\n",
        "    algs_8[i] = algs_8[i]/N"
      ]
    },
    {
      "cell_type": "code",
      "execution_count": 410,
      "metadata": {},
      "outputs": [],
      "source": [
        "# find accuracy for RR algorithms board size 8\n",
        "algs = [steepest, stochastic, first_choice, simulated_annealing]\n",
        "algs_rr_8 = [0,0,0,0]\n",
        "idx = -1\n",
        "\n",
        "for alg in algs:\n",
        "    idx += 1\n",
        "    for i in range(N):\n",
        "        if random_restart(random_board(8), alg=alg, verb = False, p = False)[0] == True:\n",
        "            algs_rr_8[idx] += 1\n",
        "\n",
        "for i in range(4):\n",
        "    algs_rr_8[i] = algs_rr_8[i]/N"
      ]
    },
    {
      "cell_type": "code",
      "execution_count": 191,
      "metadata": {},
      "outputs": [
        {
          "name": "stdout",
          "output_type": "stream",
          "text": [
            "Using Steepest Ascent, the largest board solvable under 1/10th of a second is:  16\n"
          ]
        }
      ],
      "source": [
        "# find largest board size solvable under 100 ms\n",
        "i = 1\n",
        "while i < math.inf:\n",
        "    steep = timeit.timeit('steepest(random_board(i), verb = False)', number = N, globals = globals())\n",
        "    avg_steep = (steep/N*1e3)\n",
        "\n",
        "    # use 100 ms since it is one-tenth of a second, one-tenth of a second seems like a reasonable timeframe benchmark\n",
        "    if avg_steep < 100:\n",
        "        i += 1\n",
        "    else:\n",
        "        steep_bs = i\n",
        "        break\n",
        "steep_bs = steep_bs\n",
        "print('Using Steepest Ascent, the largest board solvable under 1/10th of a second is: ', steep_bs)"
      ]
    },
    {
      "cell_type": "code",
      "execution_count": 193,
      "metadata": {},
      "outputs": [],
      "source": [
        "i = 1\n",
        "while i < math.inf:\n",
        "    stoch = timeit.timeit('stochastic(random_board(i), verb = False)', number = N, globals = globals())\n",
        "    avg_stoch = (stoch/N*1e3)\n",
        "\n",
        "    # use 100 ms since it is one-tenth of a second, one-tenth of a second seems like a reasonable timeframe benchmark\n",
        "    if avg_stoch < 100:\n",
        "        i += 1\n",
        "    else:\n",
        "        stoch_bs = i\n",
        "        break\n",
        "stoch_bs = stoch_bs"
      ]
    },
    {
      "cell_type": "code",
      "execution_count": 195,
      "metadata": {},
      "outputs": [],
      "source": [
        "i = 1\n",
        "while i < math.inf:\n",
        "    fc = timeit.timeit('first_choice(random_board(i), verb = False, tries = 200)', number = N, globals = globals())\n",
        "    avg_fc = (fc/N*1e3)\n",
        "\n",
        "    # use 100 ms since it is one-tenth of a second, one-tenth of a second seems like a reasonable timeframe benchmark\n",
        "    if avg_fc < 100:\n",
        "        i += 1\n",
        "    else:\n",
        "        fc_bs = i\n",
        "        break\n",
        "fc_bs = fc_bs"
      ]
    },
    {
      "cell_type": "code",
      "execution_count": 418,
      "metadata": {},
      "outputs": [],
      "source": [
        "i = 1\n",
        "while i < math.inf:\n",
        "    sima = timeit.timeit('simulated_annealing(random_board(i), verb = False)', number = N, globals = globals())\n",
        "    avg_sima = (sima/N*1e3)\n",
        "\n",
        "    # use 100 ms since it is one-tenth of a second, one-tenth of a second seems like a reasonable timeframe benchmark\n",
        "    if avg_sima < 100:\n",
        "        i += 1\n",
        "    else:\n",
        "        sima_bs = i\n",
        "        break\n",
        "sima_bs = sima_bs"
      ]
    },
    {
      "cell_type": "code",
      "execution_count": 194,
      "metadata": {},
      "outputs": [],
      "source": [
        "i = 1\n",
        "while i < math.inf:\n",
        "    rr_steep = timeit.timeit('random_restart(random_board(i), alg = steepest, verb = False, p = False)', number = N, globals = globals())\n",
        "    avg_rr_steep = (rr_steep/N*1e3)\n",
        "\n",
        "    # use 100 ms since it is one-tenth of a second, one-tenth of a second seems like a reasonable timeframe benchmark\n",
        "    if avg_rr_steep < 100:\n",
        "        i += 1\n",
        "    else:\n",
        "        rr_steep_bs = i\n",
        "        break\n",
        "rr_steep_bs = rr_steep_bs"
      ]
    },
    {
      "cell_type": "code",
      "execution_count": 196,
      "metadata": {},
      "outputs": [],
      "source": [
        "i = 1\n",
        "while i < math.inf:\n",
        "    rr_stoch = timeit.timeit('random_restart(random_board(i), alg = stochastic, verb = False, p = False)', number = N, globals = globals())\n",
        "    avg_rr_stoch = (rr_stoch/N*1e3)\n",
        "\n",
        "    # use 100 ms since it is one-tenth of a second, one-tenth of a second seems like a reasonable timeframe benchmark\n",
        "    if avg_rr_stoch < 100:\n",
        "        i += 1\n",
        "    else:\n",
        "        rr_stoch_bs = i\n",
        "        break\n",
        "rr_stoch_bs = rr_stoch_bs"
      ]
    },
    {
      "cell_type": "code",
      "execution_count": 197,
      "metadata": {},
      "outputs": [],
      "source": [
        "i = 1\n",
        "while i < math.inf:\n",
        "    rr_fc = timeit.timeit('random_restart(random_board(i), alg = first_choice, verb = False, tries = 200, p = False)', number = N, globals = globals())\n",
        "    avg_rr_fc = (rr_fc/N*1e3)\n",
        "\n",
        "    # use 100 ms since it is one-tenth of a second, one-tenth of a second seems like a reasonable timeframe benchmark\n",
        "    if avg_rr_fc < 100:\n",
        "        i += 1\n",
        "    else:\n",
        "        rr_fc_bs = i\n",
        "        break\n",
        "rr_fc_bs = rr_fc_bs"
      ]
    },
    {
      "cell_type": "code",
      "execution_count": 421,
      "metadata": {},
      "outputs": [
        {
          "name": "stdout",
          "output_type": "stream",
          "text": [
            "0.06841750000603497\n",
            "2\n",
            "2.304165839959751\n",
            "3\n",
            "2.596579590026522\n",
            "4\n",
            "1.9009504199493676\n",
            "5\n",
            "2.4707854200096335\n",
            "6\n",
            "3.22083000006387\n",
            "7\n",
            "3.490799999999581\n",
            "8\n",
            "3.788206250028452\n",
            "9\n",
            "4.186695830067038\n",
            "10\n",
            "4.512934160011355\n",
            "11\n",
            "4.688280420014053\n",
            "12\n",
            "4.909901670034742\n",
            "13\n",
            "5.311375000019325\n",
            "14\n",
            "5.708357920011622\n",
            "15\n",
            "5.847719169978518\n",
            "16\n",
            "6.085861669998849\n",
            "17\n",
            "6.364677919991664\n",
            "18\n",
            "6.686131669994211\n",
            "19\n",
            "6.938255839995691\n",
            "20\n",
            "7.267207500044606\n",
            "21\n",
            "7.545118749985704\n",
            "22\n",
            "7.963828329957323\n",
            "23\n",
            "8.388352499969187\n",
            "24\n",
            "8.566326669970294\n",
            "25\n"
          ]
        },
        {
          "ename": "KeyboardInterrupt",
          "evalue": "",
          "output_type": "error",
          "traceback": [
            "\u001b[0;31m---------------------------------------------------------------------------\u001b[0m",
            "\u001b[0;31mKeyboardInterrupt\u001b[0m                         Traceback (most recent call last)",
            "\u001b[0;32m/var/folders/9n/vw61dv0j4hd5zmxxq9vv99kr0000gn/T/ipykernel_7168/2138188275.py\u001b[0m in \u001b[0;36m<module>\u001b[0;34m\u001b[0m\n\u001b[1;32m      1\u001b[0m \u001b[0mi\u001b[0m \u001b[0;34m=\u001b[0m \u001b[0;36m1\u001b[0m\u001b[0;34m\u001b[0m\u001b[0;34m\u001b[0m\u001b[0m\n\u001b[1;32m      2\u001b[0m \u001b[0;32mwhile\u001b[0m \u001b[0mi\u001b[0m \u001b[0;34m<\u001b[0m \u001b[0mmath\u001b[0m\u001b[0;34m.\u001b[0m\u001b[0minf\u001b[0m\u001b[0;34m:\u001b[0m\u001b[0;34m\u001b[0m\u001b[0;34m\u001b[0m\u001b[0m\n\u001b[0;32m----> 3\u001b[0;31m     \u001b[0mrr_sima\u001b[0m \u001b[0;34m=\u001b[0m \u001b[0mtimeit\u001b[0m\u001b[0;34m.\u001b[0m\u001b[0mtimeit\u001b[0m\u001b[0;34m(\u001b[0m\u001b[0;34m'random_restart(random_board(i), alg = simulated_annealing, verb = False, p = False)'\u001b[0m\u001b[0;34m,\u001b[0m \u001b[0mnumber\u001b[0m \u001b[0;34m=\u001b[0m \u001b[0mN\u001b[0m\u001b[0;34m,\u001b[0m \u001b[0mglobals\u001b[0m \u001b[0;34m=\u001b[0m \u001b[0mglobals\u001b[0m\u001b[0;34m(\u001b[0m\u001b[0;34m)\u001b[0m\u001b[0;34m)\u001b[0m\u001b[0;34m\u001b[0m\u001b[0;34m\u001b[0m\u001b[0m\n\u001b[0m\u001b[1;32m      4\u001b[0m     \u001b[0mavg_rr_sima\u001b[0m \u001b[0;34m=\u001b[0m \u001b[0;34m(\u001b[0m\u001b[0mrr_sima\u001b[0m\u001b[0;34m/\u001b[0m\u001b[0mN\u001b[0m\u001b[0;34m*\u001b[0m\u001b[0;36m1e3\u001b[0m\u001b[0;34m)\u001b[0m\u001b[0;34m\u001b[0m\u001b[0;34m\u001b[0m\u001b[0m\n\u001b[1;32m      5\u001b[0m     \u001b[0mprint\u001b[0m\u001b[0;34m(\u001b[0m\u001b[0mavg_rr_sima\u001b[0m\u001b[0;34m)\u001b[0m\u001b[0;34m\u001b[0m\u001b[0;34m\u001b[0m\u001b[0m\n",
            "\u001b[0;32m~/opt/anaconda3/lib/python3.9/timeit.py\u001b[0m in \u001b[0;36mtimeit\u001b[0;34m(stmt, setup, timer, number, globals)\u001b[0m\n\u001b[1;32m    231\u001b[0m            number=default_number, globals=None):\n\u001b[1;32m    232\u001b[0m     \u001b[0;34m\"\"\"Convenience function to create Timer object and call timeit method.\"\"\"\u001b[0m\u001b[0;34m\u001b[0m\u001b[0;34m\u001b[0m\u001b[0m\n\u001b[0;32m--> 233\u001b[0;31m     \u001b[0;32mreturn\u001b[0m \u001b[0mTimer\u001b[0m\u001b[0;34m(\u001b[0m\u001b[0mstmt\u001b[0m\u001b[0;34m,\u001b[0m \u001b[0msetup\u001b[0m\u001b[0;34m,\u001b[0m \u001b[0mtimer\u001b[0m\u001b[0;34m,\u001b[0m \u001b[0mglobals\u001b[0m\u001b[0;34m)\u001b[0m\u001b[0;34m.\u001b[0m\u001b[0mtimeit\u001b[0m\u001b[0;34m(\u001b[0m\u001b[0mnumber\u001b[0m\u001b[0;34m)\u001b[0m\u001b[0;34m\u001b[0m\u001b[0;34m\u001b[0m\u001b[0m\n\u001b[0m\u001b[1;32m    234\u001b[0m \u001b[0;34m\u001b[0m\u001b[0m\n\u001b[1;32m    235\u001b[0m def repeat(stmt=\"pass\", setup=\"pass\", timer=default_timer,\n",
            "\u001b[0;32m~/opt/anaconda3/lib/python3.9/timeit.py\u001b[0m in \u001b[0;36mtimeit\u001b[0;34m(self, number)\u001b[0m\n\u001b[1;32m    175\u001b[0m         \u001b[0mgc\u001b[0m\u001b[0;34m.\u001b[0m\u001b[0mdisable\u001b[0m\u001b[0;34m(\u001b[0m\u001b[0;34m)\u001b[0m\u001b[0;34m\u001b[0m\u001b[0;34m\u001b[0m\u001b[0m\n\u001b[1;32m    176\u001b[0m         \u001b[0;32mtry\u001b[0m\u001b[0;34m:\u001b[0m\u001b[0;34m\u001b[0m\u001b[0;34m\u001b[0m\u001b[0m\n\u001b[0;32m--> 177\u001b[0;31m             \u001b[0mtiming\u001b[0m \u001b[0;34m=\u001b[0m \u001b[0mself\u001b[0m\u001b[0;34m.\u001b[0m\u001b[0minner\u001b[0m\u001b[0;34m(\u001b[0m\u001b[0mit\u001b[0m\u001b[0;34m,\u001b[0m \u001b[0mself\u001b[0m\u001b[0;34m.\u001b[0m\u001b[0mtimer\u001b[0m\u001b[0;34m)\u001b[0m\u001b[0;34m\u001b[0m\u001b[0;34m\u001b[0m\u001b[0m\n\u001b[0m\u001b[1;32m    178\u001b[0m         \u001b[0;32mfinally\u001b[0m\u001b[0;34m:\u001b[0m\u001b[0;34m\u001b[0m\u001b[0;34m\u001b[0m\u001b[0m\n\u001b[1;32m    179\u001b[0m             \u001b[0;32mif\u001b[0m \u001b[0mgcold\u001b[0m\u001b[0;34m:\u001b[0m\u001b[0;34m\u001b[0m\u001b[0;34m\u001b[0m\u001b[0m\n",
            "\u001b[0;32m<timeit-src>\u001b[0m in \u001b[0;36minner\u001b[0;34m(_it, _timer)\u001b[0m\n",
            "\u001b[0;32m/var/folders/9n/vw61dv0j4hd5zmxxq9vv99kr0000gn/T/ipykernel_7168/3060802830.py\u001b[0m in \u001b[0;36mrandom_restart\u001b[0;34m(board, alg, verb, tries, p)\u001b[0m\n\u001b[1;32m     14\u001b[0m             \u001b[0;32mfor\u001b[0m \u001b[0mi\u001b[0m \u001b[0;32min\u001b[0m \u001b[0mrange\u001b[0m\u001b[0;34m(\u001b[0m\u001b[0;36m100\u001b[0m\u001b[0;34m)\u001b[0m\u001b[0;34m:\u001b[0m\u001b[0;34m\u001b[0m\u001b[0;34m\u001b[0m\u001b[0m\n\u001b[1;32m     15\u001b[0m                 \u001b[0mbc\u001b[0m \u001b[0;34m=\u001b[0m \u001b[0mnp\u001b[0m\u001b[0;34m.\u001b[0m\u001b[0mcopy\u001b[0m\u001b[0;34m(\u001b[0m\u001b[0mrandom_board\u001b[0m\u001b[0;34m(\u001b[0m\u001b[0mboard_len\u001b[0m\u001b[0;34m)\u001b[0m\u001b[0;34m)\u001b[0m\u001b[0;34m\u001b[0m\u001b[0;34m\u001b[0m\u001b[0m\n\u001b[0;32m---> 16\u001b[0;31m                 \u001b[0mopt\u001b[0m \u001b[0;34m=\u001b[0m \u001b[0malg\u001b[0m\u001b[0;34m(\u001b[0m\u001b[0mbc\u001b[0m\u001b[0;34m,\u001b[0m\u001b[0mverb\u001b[0m\u001b[0;34m)\u001b[0m\u001b[0;34m[\u001b[0m\u001b[0;36m0\u001b[0m\u001b[0;34m]\u001b[0m\u001b[0;34m\u001b[0m\u001b[0;34m\u001b[0m\u001b[0m\n\u001b[0m\u001b[1;32m     17\u001b[0m                 \u001b[0mcurrent_bc\u001b[0m \u001b[0;34m=\u001b[0m \u001b[0malg\u001b[0m\u001b[0;34m(\u001b[0m\u001b[0mbc\u001b[0m\u001b[0;34m,\u001b[0m\u001b[0mverb\u001b[0m\u001b[0;34m)\u001b[0m\u001b[0;34m[\u001b[0m\u001b[0;36m1\u001b[0m\u001b[0;34m]\u001b[0m\u001b[0;34m\u001b[0m\u001b[0;34m\u001b[0m\u001b[0m\n\u001b[1;32m     18\u001b[0m                 \u001b[0;32mif\u001b[0m \u001b[0mopt\u001b[0m \u001b[0;34m==\u001b[0m \u001b[0;32mFalse\u001b[0m\u001b[0;34m:\u001b[0m\u001b[0;34m\u001b[0m\u001b[0;34m\u001b[0m\u001b[0m\n",
            "\u001b[0;32m/var/folders/9n/vw61dv0j4hd5zmxxq9vv99kr0000gn/T/ipykernel_7168/607533419.py\u001b[0m in \u001b[0;36msimulated_annealing\u001b[0;34m(board, t0, a, ep, schedule, verb)\u001b[0m\n\u001b[1;32m     11\u001b[0m \u001b[0;34m\u001b[0m\u001b[0m\n\u001b[1;32m     12\u001b[0m         \u001b[0;32mif\u001b[0m \u001b[0mT\u001b[0m \u001b[0;34m<\u001b[0m \u001b[0mep\u001b[0m\u001b[0;34m:\u001b[0m\u001b[0;34m\u001b[0m\u001b[0;34m\u001b[0m\u001b[0m\n\u001b[0;32m---> 13\u001b[0;31m             \u001b[0;32mif\u001b[0m \u001b[0mconflicts\u001b[0m\u001b[0;34m(\u001b[0m\u001b[0mbc\u001b[0m\u001b[0;34m)\u001b[0m \u001b[0;34m==\u001b[0m \u001b[0;36m0\u001b[0m\u001b[0;34m:\u001b[0m\u001b[0;34m\u001b[0m\u001b[0;34m\u001b[0m\u001b[0m\n\u001b[0m\u001b[1;32m     14\u001b[0m                 \u001b[0;32mif\u001b[0m \u001b[0mverb\u001b[0m\u001b[0;34m:\u001b[0m\u001b[0;34m\u001b[0m\u001b[0;34m\u001b[0m\u001b[0m\n\u001b[1;32m     15\u001b[0m                     \u001b[0mprint\u001b[0m\u001b[0;34m(\u001b[0m\u001b[0;34m'global/local optimum found'\u001b[0m\u001b[0;34m)\u001b[0m\u001b[0;34m\u001b[0m\u001b[0;34m\u001b[0m\u001b[0m\n",
            "\u001b[0;32m/var/folders/9n/vw61dv0j4hd5zmxxq9vv99kr0000gn/T/ipykernel_7168/3874690200.py\u001b[0m in \u001b[0;36mconflicts\u001b[0;34m(board)\u001b[0m\n\u001b[1;32m     26\u001b[0m \u001b[0;34m\u001b[0m\u001b[0m\n\u001b[1;32m     27\u001b[0m     \u001b[0;32mfor\u001b[0m \u001b[0mi\u001b[0m \u001b[0;32min\u001b[0m \u001b[0mrange\u001b[0m\u001b[0;34m(\u001b[0m\u001b[0mn\u001b[0m\u001b[0;34m)\u001b[0m\u001b[0;34m:\u001b[0m\u001b[0;34m\u001b[0m\u001b[0;34m\u001b[0m\u001b[0m\n\u001b[0;32m---> 28\u001b[0;31m         \u001b[0mhorizontal_cnt\u001b[0m\u001b[0;34m[\u001b[0m\u001b[0mboard\u001b[0m\u001b[0;34m[\u001b[0m\u001b[0mi\u001b[0m\u001b[0;34m]\u001b[0m\u001b[0;34m]\u001b[0m \u001b[0;34m+=\u001b[0m \u001b[0;36m1\u001b[0m\u001b[0;34m\u001b[0m\u001b[0;34m\u001b[0m\u001b[0m\n\u001b[0m\u001b[1;32m     29\u001b[0m         \u001b[0mdiagonal1_cnt\u001b[0m\u001b[0;34m[\u001b[0m\u001b[0mi\u001b[0m \u001b[0;34m+\u001b[0m \u001b[0mboard\u001b[0m\u001b[0;34m[\u001b[0m\u001b[0mi\u001b[0m\u001b[0;34m]\u001b[0m\u001b[0;34m]\u001b[0m \u001b[0;34m+=\u001b[0m \u001b[0;36m1\u001b[0m\u001b[0;34m\u001b[0m\u001b[0;34m\u001b[0m\u001b[0m\n\u001b[1;32m     30\u001b[0m         \u001b[0mdiagonal2_cnt\u001b[0m\u001b[0;34m[\u001b[0m\u001b[0mi\u001b[0m \u001b[0;34m-\u001b[0m \u001b[0mboard\u001b[0m\u001b[0;34m[\u001b[0m\u001b[0mi\u001b[0m\u001b[0;34m]\u001b[0m \u001b[0;34m+\u001b[0m \u001b[0mn\u001b[0m\u001b[0;34m]\u001b[0m \u001b[0;34m+=\u001b[0m \u001b[0;36m1\u001b[0m\u001b[0;34m\u001b[0m\u001b[0;34m\u001b[0m\u001b[0m\n",
            "\u001b[0;31mKeyboardInterrupt\u001b[0m: "
          ]
        }
      ],
      "source": [
        "i = 1\n",
        "while i < math.inf:\n",
        "    rr_sima = timeit.timeit('random_restart(random_board(i), alg = simulated_annealing, verb = False, p = False)', number = N, globals = globals())\n",
        "    avg_rr_sima = (rr_sima/N*1e3)\n",
        "    print(avg_rr_sima)\n",
        "\n",
        "    # use 100 ms since it is one-tenth of a second, one-tenth of a second seems like a reasonable timeframe benchmark\n",
        "    if avg_rr_sima < 100:\n",
        "        i += 1\n",
        "        print(i)\n",
        "    else:\n",
        "        rr_sima_bs = i\n",
        "        break\n",
        "rr_sima_bs = rr_sima_bs"
      ]
    },
    {
      "cell_type": "markdown",
      "metadata": {},
      "source": [
        "The max board size under 100 ms for random restart simulated annealing is quite large, so I will not calculate."
      ]
    },
    {
      "cell_type": "code",
      "execution_count": 416,
      "metadata": {},
      "outputs": [],
      "source": [
        "rr_sima_bs = 'Large'"
      ]
    },
    {
      "cell_type": "code",
      "execution_count": 417,
      "metadata": {},
      "outputs": [
        {
          "data": {
            "text/html": [
              "<div>\n",
              "<style scoped>\n",
              "    .dataframe tbody tr th:only-of-type {\n",
              "        vertical-align: middle;\n",
              "    }\n",
              "\n",
              "    .dataframe tbody tr th {\n",
              "        vertical-align: top;\n",
              "    }\n",
              "\n",
              "    .dataframe thead th {\n",
              "        text-align: right;\n",
              "    }\n",
              "</style>\n",
              "<table border=\"1\" class=\"dataframe\">\n",
              "  <thead>\n",
              "    <tr style=\"text-align: right;\">\n",
              "      <th></th>\n",
              "      <th>4x4 Board Avg Runtime (ms)</th>\n",
              "      <th>4x4 Board Avg Global Optimality %</th>\n",
              "      <th>8x8 Board Avg Runtime (ms)</th>\n",
              "      <th>8x8 Board Avg Global Optimality %</th>\n",
              "      <th>Largest Board Solvable Under 1/10th of a Second</th>\n",
              "    </tr>\n",
              "  </thead>\n",
              "  <tbody>\n",
              "    <tr>\n",
              "      <th>Steepest Ascent</th>\n",
              "      <td>0.787803</td>\n",
              "      <td>0.43</td>\n",
              "      <td>8.393910</td>\n",
              "      <td>0.17</td>\n",
              "      <td>16</td>\n",
              "    </tr>\n",
              "    <tr>\n",
              "      <th>Stochastic</th>\n",
              "      <td>1.086435</td>\n",
              "      <td>0.31</td>\n",
              "      <td>14.951693</td>\n",
              "      <td>0.16</td>\n",
              "      <td>14</td>\n",
              "    </tr>\n",
              "    <tr>\n",
              "      <th>First Choice</th>\n",
              "      <td>1.415701</td>\n",
              "      <td>0.36</td>\n",
              "      <td>4.747098</td>\n",
              "      <td>0.06</td>\n",
              "      <td>26</td>\n",
              "    </tr>\n",
              "    <tr>\n",
              "      <th>Simulated Annealing</th>\n",
              "      <td>108.717515</td>\n",
              "      <td>0.77</td>\n",
              "      <td>676.602232</td>\n",
              "      <td>0.28</td>\n",
              "      <td>4</td>\n",
              "    </tr>\n",
              "    <tr>\n",
              "      <th>Random Restart Steepest Ascent</th>\n",
              "      <td>3.009330</td>\n",
              "      <td>1.00</td>\n",
              "      <td>109.415257</td>\n",
              "      <td>1.00</td>\n",
              "      <td>8</td>\n",
              "    </tr>\n",
              "    <tr>\n",
              "      <th>Random Restart Stochastic</th>\n",
              "      <td>7.068112</td>\n",
              "      <td>1.00</td>\n",
              "      <td>247.093019</td>\n",
              "      <td>1.00</td>\n",
              "      <td>6</td>\n",
              "    </tr>\n",
              "    <tr>\n",
              "      <th>Random Restart First Choice</th>\n",
              "      <td>4.309380</td>\n",
              "      <td>1.00</td>\n",
              "      <td>86.300500</td>\n",
              "      <td>0.02</td>\n",
              "      <td>2</td>\n",
              "    </tr>\n",
              "    <tr>\n",
              "      <th>Random Restart Simulated Annealing</th>\n",
              "      <td>1.775440</td>\n",
              "      <td>0.52</td>\n",
              "      <td>3.788328</td>\n",
              "      <td>0.00</td>\n",
              "      <td>Large</td>\n",
              "    </tr>\n",
              "  </tbody>\n",
              "</table>\n",
              "</div>"
            ],
            "text/plain": [
              "                                    4x4 Board Avg Runtime (ms)  \\\n",
              "Steepest Ascent                                       0.787803   \n",
              "Stochastic                                            1.086435   \n",
              "First Choice                                          1.415701   \n",
              "Simulated Annealing                                 108.717515   \n",
              "Random Restart Steepest Ascent                        3.009330   \n",
              "Random Restart Stochastic                             7.068112   \n",
              "Random Restart First Choice                           4.309380   \n",
              "Random Restart Simulated Annealing                    1.775440   \n",
              "\n",
              "                                    4x4 Board Avg Global Optimality %  \\\n",
              "Steepest Ascent                                                  0.43   \n",
              "Stochastic                                                       0.31   \n",
              "First Choice                                                     0.36   \n",
              "Simulated Annealing                                              0.77   \n",
              "Random Restart Steepest Ascent                                   1.00   \n",
              "Random Restart Stochastic                                        1.00   \n",
              "Random Restart First Choice                                      1.00   \n",
              "Random Restart Simulated Annealing                               0.52   \n",
              "\n",
              "                                    8x8 Board Avg Runtime (ms)  \\\n",
              "Steepest Ascent                                       8.393910   \n",
              "Stochastic                                           14.951693   \n",
              "First Choice                                          4.747098   \n",
              "Simulated Annealing                                 676.602232   \n",
              "Random Restart Steepest Ascent                      109.415257   \n",
              "Random Restart Stochastic                           247.093019   \n",
              "Random Restart First Choice                          86.300500   \n",
              "Random Restart Simulated Annealing                    3.788328   \n",
              "\n",
              "                                    8x8 Board Avg Global Optimality %  \\\n",
              "Steepest Ascent                                                  0.17   \n",
              "Stochastic                                                       0.16   \n",
              "First Choice                                                     0.06   \n",
              "Simulated Annealing                                              0.28   \n",
              "Random Restart Steepest Ascent                                   1.00   \n",
              "Random Restart Stochastic                                        1.00   \n",
              "Random Restart First Choice                                      0.02   \n",
              "Random Restart Simulated Annealing                               0.00   \n",
              "\n",
              "                                   Largest Board Solvable Under 1/10th of a Second  \n",
              "Steepest Ascent                                                                 16  \n",
              "Stochastic                                                                      14  \n",
              "First Choice                                                                    26  \n",
              "Simulated Annealing                                                              4  \n",
              "Random Restart Steepest Ascent                                                   8  \n",
              "Random Restart Stochastic                                                        6  \n",
              "Random Restart First Choice                                                      2  \n",
              "Random Restart Simulated Annealing                                           Large  "
            ]
          },
          "execution_count": 417,
          "metadata": {},
          "output_type": "execute_result"
        }
      ],
      "source": [
        "col_names = ['4x4 Board Avg Runtime (ms)','4x4 Board Avg Global Optimality %','8x8 Board Avg Runtime (ms)','8x8 Board Avg Global Optimality %','Largest Board Solvable Under 1/10th of a Second']\n",
        "steep_l = [avg_steep_4, algs_4[0], avg_steep_8, algs_8[0], steep_bs]\n",
        "stoch_l = [avg_stoch_4, algs_4[1], avg_stoch_8, algs_8[1], stoch_bs]\n",
        "fc_l = [avg_fc_4, algs_4[2], avg_fc_8, algs_8[2], fc_bs]\n",
        "sa_l = [avg_sima_4, algs_4[3], avg_sima_8, algs_8[3], sima_bs]\n",
        "steep_rr_l = [avg_rr_steep_4, algs_rr_4[0], avg_rr_steep_8, algs_rr_8[0], rr_steep_bs]\n",
        "stoch_rr_l = [avg_rr_stoch_4, algs_rr_4[1], avg_rr_stoch_8, algs_rr_8[1], rr_stoch_bs]\n",
        "fc_rr_l = [avg_rr_fc_4, algs_rr_4[2], avg_rr_fc_8, algs_rr_8[2], rr_fc_bs]\n",
        "sa_rr_l = [avg_rr_sima_4, algs_rr_4[3], avg_rr_sima_8, algs_rr_8[3], rr_sima_bs]\n",
        "\n",
        "df = pd.DataFrame(data=[steep_l, stoch_l, fc_l, sa_l, steep_rr_l, stoch_rr_l, fc_rr_l, sa_rr_l], \n",
        "                  index=['Steepest Ascent','Stochastic','First Choice','Simulated Annealing','Random Restart Steepest Ascent','Random Restart Stochastic','Random Restart First Choice', 'Random Restart Simulated Annealing'],\n",
        "                  columns=col_names)\n",
        "df"
      ]
    },
    {
      "cell_type": "markdown",
      "metadata": {},
      "source": [
        "##### Analysis\n",
        "Every algorithm scales poorly with problem size in some way or another. For non random restart algorithms (aside from simulated annealing), the runtime for the smaller board was rather low, however, the accuracy of finding an optimal solution was also low. Whenever the board size increases from 4x4 to a full size chess board at 8x8, the accuracy drops even lower to sub 15% for ever algorithm. The low accuracy makes sense since for the non random restart algorithms, it is very easy for these algorithms to get stuck in a local optimum. Simulated annealing has the highest golbal accuracy for the 8x8 board. This is caused by the temperature schedule that allows simulated annealing to escape local optima.\n",
        "\n",
        "The random restart algorithms scale poorly in a different way than the non random restart algorithms. Unlike the non RR algorithms, the RR algorithms achieve a 100% accuracy rating (aside from the random restart first choice algorithm and the random restart simulated annealing algorithm). This is because, the RR algorithms randomize the initial starting state. This reduces the chance of getting caught in a local optimum given the rules the algorithm is confined by. This 100% accuracy continues even when the size of the board increases from 4x4 to 8x8. However, the runtime for each RR algorithm increases dramatically. My guess as to why the simulated annealing does not perform well with random restarts is because it essentially already accommodates variability with the temperature schedule. Whenever you add more randomization to the mix, the accuracy decreases.\n",
        "\n",
        "See the table above for the largest board solvable in under one-tenth of a second."
      ]
    },
    {
      "cell_type": "markdown",
      "metadata": {
        "id": "9l2C_WTnRsI0"
      },
      "source": [
        "## Graduate student advanced task: Exploring other Local Moves [10 Points]\n",
        "\n",
        "__Undergraduate students:__ This is a bonus task you can attempt if you like [+5 Bonus Points].\n",
        "\n",
        "Implement a few different local moves. Implement:\n",
        "\n",
        "* moving a queen only one square at a time\n",
        "* switching two columns\n",
        "* more moves which move more than one queen at a time.\n",
        "\n",
        "Compare the performance of these moves for the 8-Queens problem using your stochastic hill climbing 2 implementation from above. Also consider mixing the use of several types of local moves (e.g., move one queen and moving two queens).\n",
        "\n",
        "Describe what you find out about how well these moves and combinations of these moves work."
      ]
    },
    {
      "cell_type": "code",
      "execution_count": 212,
      "metadata": {
        "id": "g9kF0eb6RsI0",
        "tags": []
      },
      "outputs": [],
      "source": [
        "# one square at a time\n",
        "def one_square(board, verb = True, tries = 50):\n",
        "    bc = np.copy(board)\n",
        "    sol = True\n",
        "    opt = False\n",
        "    n = 0\n",
        "    while sol:\n",
        "        nbr = np.copy(bc)\n",
        "        length = [i for i in range(len(bc))]\n",
        "        random.shuffle(length)\n",
        "        for i in length:\n",
        "            # randomly select either the square above or square below if not at the end of the board\n",
        "            prob=random.random()\n",
        "            if prob < 0.5:\n",
        "                if bc[i] != len(bc)-1:\n",
        "                    nbr[i] = bc[i]+1\n",
        "            else:\n",
        "                if bc[i] != 0:\n",
        "                    nbr[i] = bc[i]-1\n",
        "            random.shuffle(length)\n",
        "            if conflicts(nbr) < conflicts(bc):\n",
        "                n = 0\n",
        "                bc = np.copy(nbr)\n",
        "                break\n",
        "            elif conflicts(nbr) >= conflicts(bc):\n",
        "                n += 1\n",
        "                if n >= tries:\n",
        "                    break\n",
        "            nbr = np.copy(bc)\n",
        "\n",
        "        if n >= tries:         \n",
        "            if verb:\n",
        "                print('local optimum found, global optimum not found')\n",
        "            sol = False\n",
        "\n",
        "        if conflicts(bc) == 0:\n",
        "            if verb:\n",
        "                print('global/local optimum found')\n",
        "            opt = True\n",
        "            sol = False\n",
        "    return [opt,bc]\n"
      ]
    },
    {
      "cell_type": "code",
      "execution_count": 222,
      "metadata": {},
      "outputs": [
        {
          "name": "stdout",
          "output_type": "stream",
          "text": [
            "local optimum found, global optimum not found\n"
          ]
        },
        {
          "data": {
            "text/plain": [
              "[False, array([2, 2, 3, 3])]"
            ]
          },
          "execution_count": 222,
          "metadata": {},
          "output_type": "execute_result"
        }
      ],
      "source": [
        "board = random_board(4)\n",
        "one_square(board)"
      ]
    },
    {
      "cell_type": "code",
      "execution_count": 232,
      "metadata": {},
      "outputs": [],
      "source": [
        "# switching columns\n",
        "def col_switch(board, verb = True, tries = 50):\n",
        "    bc = np.copy(board)\n",
        "    sol = True\n",
        "    opt = False\n",
        "    n = 0\n",
        "    while sol:\n",
        "        nbr = np.copy(bc)\n",
        "        length = [i for i in range(len(bc))]\n",
        "        random.shuffle(length)\n",
        "        for i in length:\n",
        "            for j in length:\n",
        "                # swap two columns\n",
        "                temp = nbr[i]\n",
        "                nbr[i] = nbr[j]\n",
        "                nbr[j] = temp\n",
        "            if conflicts(nbr) < conflicts(bc):\n",
        "                n = 0\n",
        "                bc = np.copy(nbr)\n",
        "                break\n",
        "            elif conflicts(nbr) >= conflicts(bc):\n",
        "                n += 1\n",
        "                if n >= tries:\n",
        "                    break\n",
        "            nbr = np.copy(bc)\n",
        "\n",
        "        if n >= tries:         \n",
        "            if verb:\n",
        "                print('local optimum found, global optimum not found')\n",
        "            sol = False\n",
        "\n",
        "        if conflicts(bc) == 0:\n",
        "            if verb:\n",
        "                print('global/local optimum found')\n",
        "            opt = True\n",
        "            sol = False\n",
        "    return [opt,bc]"
      ]
    },
    {
      "cell_type": "code",
      "execution_count": 245,
      "metadata": {},
      "outputs": [
        {
          "name": "stdout",
          "output_type": "stream",
          "text": [
            "local optimum found, global optimum not found\n"
          ]
        },
        {
          "data": {
            "text/plain": [
              "[False, array([0, 2, 0, 0])]"
            ]
          },
          "execution_count": 245,
          "metadata": {},
          "output_type": "execute_result"
        }
      ],
      "source": [
        "board = random_board(4)\n",
        "col_switch(board)"
      ]
    },
    {
      "cell_type": "code",
      "execution_count": 246,
      "metadata": {},
      "outputs": [],
      "source": [
        "# combined\n",
        "def combined(board, verb = True, tries = 50):\n",
        "    bc = np.copy(board)\n",
        "    sol = True\n",
        "    opt = False\n",
        "    n = 0\n",
        "    while sol:\n",
        "        nbr = np.copy(bc)\n",
        "        one = np.copy(nbr)\n",
        "        shuffle = np.copy(nbr)\n",
        "        length = [i for i in range(len(bc))]\n",
        "        random.shuffle(length)\n",
        "        # either swap two columns, but if moving one square is better, choose moving one square\n",
        "        for i in length:\n",
        "            for j in length:\n",
        "                temp = shuffle[i]\n",
        "                shuffle[i] = shuffle[j]\n",
        "                shuffle[j] = temp\n",
        "            if conflicts(shuffle) < conflicts(bc):\n",
        "                n = 0\n",
        "                nbr = np.copy(shuffle)\n",
        "                break\n",
        "            elif conflicts(shuffle) >= conflicts(bc):\n",
        "                n += 1\n",
        "                if n >= tries:\n",
        "                    break\n",
        "            nbr = np.copy(bc)\n",
        "\n",
        "        for i in length:\n",
        "            prob=random.random()\n",
        "            if prob < 0.5:\n",
        "                if bc[i] != len(bc)-1:\n",
        "                    one[i] = bc[i]+1\n",
        "            else:\n",
        "                if bc[i] != 0:\n",
        "                    one[i] = bc[i]-1\n",
        "            random.shuffle(length)\n",
        "            if conflicts(one) < conflicts(nbr):\n",
        "                n = 0\n",
        "                nbr = np.copy(one)\n",
        "                break\n",
        "            elif conflicts(shuffle) >= conflicts(bc):\n",
        "                n += 1\n",
        "                if n >= tries:\n",
        "                    break\n",
        "            nbr = np.copy(bc)\n",
        "        \n",
        "        bc = np.copy(nbr)\n",
        "\n",
        "\n",
        "        if n >= tries:         \n",
        "            if verb:\n",
        "                print('local optimum found, global optimum not found')\n",
        "            sol = False\n",
        "\n",
        "        if conflicts(bc) == 0:\n",
        "            if verb:\n",
        "                print('global/local optimum found')\n",
        "            opt = True\n",
        "            sol = False\n",
        "    return [opt,bc]"
      ]
    },
    {
      "cell_type": "code",
      "execution_count": 258,
      "metadata": {},
      "outputs": [
        {
          "name": "stdout",
          "output_type": "stream",
          "text": [
            "local optimum found, global optimum not found\n"
          ]
        },
        {
          "data": {
            "text/plain": [
              "[False, array([0, 0, 3, 1])]"
            ]
          },
          "execution_count": 258,
          "metadata": {},
          "output_type": "execute_result"
        }
      ],
      "source": [
        "board = random_board(4)\n",
        "combined(board)"
      ]
    },
    {
      "cell_type": "code",
      "execution_count": 259,
      "metadata": {},
      "outputs": [],
      "source": [
        "N = 100\n",
        "os_4 = timeit.timeit('one_square(random_board(4), verb = False)', number = N, globals = globals())\n",
        "avg_os_4 = (os_4/N*1e3)\n",
        "\n",
        "col_switch_4 = timeit.timeit('col_switch(random_board(4), verb = False)', number = N, globals = globals())\n",
        "avg_col_switch_4 = (col_switch_4/N*1e3)\n",
        "\n",
        "combined_4 = timeit.timeit('combined(random_board(4), verb = False)', number = N, globals = globals())\n",
        "avg_combined_4 = (combined_4/N*1e3)"
      ]
    },
    {
      "cell_type": "code",
      "execution_count": 260,
      "metadata": {},
      "outputs": [],
      "source": [
        "os_8 = timeit.timeit('one_square(random_board(8), verb = False)', number = N, globals = globals())\n",
        "avg_os_8 = (os_8/N*1e3)\n",
        "\n",
        "col_switch_8 = timeit.timeit('col_switch(random_board(8), verb = False)', number = N, globals = globals())\n",
        "avg_col_switch_8 = (col_switch_8/N*1e3)\n",
        "\n",
        "combined_8 = timeit.timeit('combined(random_board(8), verb = False)', number = N, globals = globals())\n",
        "avg_combined_8 = (combined_8/N*1e3)"
      ]
    },
    {
      "cell_type": "code",
      "execution_count": 261,
      "metadata": {},
      "outputs": [],
      "source": [
        "algs = [one_square, col_switch, combined]\n",
        "algs_4 = [0,0,0]\n",
        "idx = -1\n",
        "\n",
        "for alg in algs:\n",
        "    idx += 1\n",
        "    for i in range(N):\n",
        "        if alg(random_board(4), verb = False)[0] == True:\n",
        "            algs_4[idx] += 1\n",
        "\n",
        "for i in range(3):\n",
        "    algs_4[i] = algs_4[i]/N"
      ]
    },
    {
      "cell_type": "code",
      "execution_count": 262,
      "metadata": {},
      "outputs": [],
      "source": [
        "algs = [one_square, col_switch, combined]\n",
        "algs_8 = [0,0,0]\n",
        "idx = -1\n",
        "\n",
        "for alg in algs:\n",
        "    idx += 1\n",
        "    for i in range(N):\n",
        "        if alg(random_board(8), verb = False)[0] == True:\n",
        "            algs_8[idx] += 1\n",
        "\n",
        "for i in range(3):\n",
        "    algs_8[i] = algs_8[i]/N"
      ]
    },
    {
      "cell_type": "code",
      "execution_count": 266,
      "metadata": {},
      "outputs": [
        {
          "data": {
            "text/html": [
              "<div>\n",
              "<style scoped>\n",
              "    .dataframe tbody tr th:only-of-type {\n",
              "        vertical-align: middle;\n",
              "    }\n",
              "\n",
              "    .dataframe tbody tr th {\n",
              "        vertical-align: top;\n",
              "    }\n",
              "\n",
              "    .dataframe thead th {\n",
              "        text-align: right;\n",
              "    }\n",
              "</style>\n",
              "<table border=\"1\" class=\"dataframe\">\n",
              "  <thead>\n",
              "    <tr style=\"text-align: right;\">\n",
              "      <th></th>\n",
              "      <th>4x4 Board Avg Runtime (ms)</th>\n",
              "      <th>4x4 Board Avg Global Optimality %</th>\n",
              "      <th>8x8 Board Avg Runtime (ms)</th>\n",
              "      <th>8x8 Board Avg Global Optimality %</th>\n",
              "    </tr>\n",
              "  </thead>\n",
              "  <tbody>\n",
              "    <tr>\n",
              "      <th>One Square Moves</th>\n",
              "      <td>1.910713</td>\n",
              "      <td>0.12</td>\n",
              "      <td>4.296174</td>\n",
              "      <td>0.01</td>\n",
              "    </tr>\n",
              "    <tr>\n",
              "      <th>Column Swap</th>\n",
              "      <td>1.580074</td>\n",
              "      <td>0.10</td>\n",
              "      <td>3.693062</td>\n",
              "      <td>0.00</td>\n",
              "    </tr>\n",
              "    <tr>\n",
              "      <th>One Square Moves and Column Swap Combined</th>\n",
              "      <td>2.849413</td>\n",
              "      <td>0.28</td>\n",
              "      <td>9.131264</td>\n",
              "      <td>0.01</td>\n",
              "    </tr>\n",
              "    <tr>\n",
              "      <th>First Choice</th>\n",
              "      <td>1.417314</td>\n",
              "      <td>0.28</td>\n",
              "      <td>4.737328</td>\n",
              "      <td>0.01</td>\n",
              "    </tr>\n",
              "  </tbody>\n",
              "</table>\n",
              "</div>"
            ],
            "text/plain": [
              "                                           4x4 Board Avg Runtime (ms)  \\\n",
              "One Square Moves                                             1.910713   \n",
              "Column Swap                                                  1.580074   \n",
              "One Square Moves and Column Swap Combined                    2.849413   \n",
              "First Choice                                                 1.417314   \n",
              "\n",
              "                                           4x4 Board Avg Global Optimality %  \\\n",
              "One Square Moves                                                        0.12   \n",
              "Column Swap                                                             0.10   \n",
              "One Square Moves and Column Swap Combined                               0.28   \n",
              "First Choice                                                            0.28   \n",
              "\n",
              "                                           8x8 Board Avg Runtime (ms)  \\\n",
              "One Square Moves                                             4.296174   \n",
              "Column Swap                                                  3.693062   \n",
              "One Square Moves and Column Swap Combined                    9.131264   \n",
              "First Choice                                                 4.737328   \n",
              "\n",
              "                                           8x8 Board Avg Global Optimality %  \n",
              "One Square Moves                                                        0.01  \n",
              "Column Swap                                                             0.00  \n",
              "One Square Moves and Column Swap Combined                               0.01  \n",
              "First Choice                                                            0.01  "
            ]
          },
          "execution_count": 266,
          "metadata": {},
          "output_type": "execute_result"
        }
      ],
      "source": [
        "col_names = ['4x4 Board Avg Runtime (ms)','4x4 Board Avg Global Optimality %','8x8 Board Avg Runtime (ms)','8x8 Board Avg Global Optimality %']\n",
        "os_l = [avg_os_4,algs_4[0],avg_os_8,algs_8[0]]\n",
        "cs_l = [avg_col_switch_4,algs_4[1],avg_col_switch_8,algs_8[1]]\n",
        "comb_l = [avg_combined_4,algs_4[2],avg_combined_8,algs_8[2]]\n",
        "fc_l = [avg_fc_4, algs_4[2], avg_fc_8, algs_8[2]]\n",
        "\n",
        "df = pd.DataFrame(data=[os_l,cs_l,comb_l,fc_l],\n",
        "                  index=['One Square Moves','Column Swap','One Square Moves and Column Swap Combined','First Choice'],\n",
        "                  columns=col_names)\n",
        "df"
      ]
    },
    {
      "cell_type": "markdown",
      "metadata": {},
      "source": [
        "##### Analysis\n",
        "As seen in the table above, these local moves do not perform very well. The best performing out of the three new algorithms is the combined algorithm. Even with this being the best performing, it still only matches the performance of the first choice algorithm from earlier with an accuracy of about 28% with a 4x4 board and an accuracy of about 1% with an 8x8 board. Additionally, the combined algorithm has a runtime that is about twice as long as the first choice algorithm. The one square move and column swap algorithms have very low performance with an accuracy around 10% and 1% for the 4x4 and 8x8 board respectively."
      ]
    },
    {
      "cell_type": "markdown",
      "metadata": {
        "id": "gdJqpQ4cRsI1"
      },
      "source": [
        "## More things to do\n",
        "\n",
        "Implement a Genetic Algorithm for the n-Queens problem."
      ]
    },
    {
      "cell_type": "code",
      "execution_count": null,
      "metadata": {
        "id": "Y5GpEZ5MRsI1",
        "tags": []
      },
      "outputs": [],
      "source": [
        "# Code and description go here"
      ]
    }
  ],
  "metadata": {
    "colab": {
      "provenance": []
    },
    "kernelspec": {
      "display_name": "Python 3 (ipykernel)",
      "language": "python",
      "name": "python3"
    },
    "language_info": {
      "codemirror_mode": {
        "name": "ipython",
        "version": 3
      },
      "file_extension": ".py",
      "mimetype": "text/x-python",
      "name": "python",
      "nbconvert_exporter": "python",
      "pygments_lexer": "ipython3",
      "version": "3.9.13"
    },
    "toc-autonumbering": false,
    "toc-showcode": false,
    "toc-showmarkdowntxt": false,
    "toc-showtags": false
  },
  "nbformat": 4,
  "nbformat_minor": 0
}
